{
  "nbformat": 4,
  "nbformat_minor": 0,
  "metadata": {
    "colab": {
      "provenance": []
    },
    "kernelspec": {
      "name": "python3",
      "display_name": "Python 3"
    },
    "language_info": {
      "name": "python"
    }
  },
  "cells": [
    {
      "cell_type": "code",
      "source": [
        "def sum_of_integer_powers(power, end, start = 1):\n",
        "  return sum([(i) ** power for i in range(start, end+1)])\n",
        "#defining function to find summation for the i th powers of 1 to a number"
      ],
      "metadata": {
        "id": "Zc962DtoZEC9"
      },
      "execution_count": null,
      "outputs": []
    },
    {
      "cell_type": "code",
      "source": [
        "power =int(input(\"enter the power: \"))\n",
        "print(\"the power is: \", power)\n",
        "print()\n",
        "end= int(input(\"enter the end point for your summation: \" ))\n",
        "print(\"the end point for your summation is: \", end)"
      ],
      "metadata": {
        "colab": {
          "base_uri": "https://localhost:8080/"
        },
        "id": "MjFfBb-FaKdR",
        "outputId": "7d045553-beaf-41ac-d00d-a58a69f7bae2"
      },
      "execution_count": null,
      "outputs": [
        {
          "output_type": "stream",
          "name": "stdout",
          "text": [
            "enter the power: 3\n",
            "the power is:  3\n",
            "\n",
            "enter the end point for your summation: 10\n",
            "the end point for your summation is:  10\n"
          ]
        }
      ]
    },
    {
      "cell_type": "code",
      "source": [
        "sum_of_integer_powers(power,end)"
      ],
      "metadata": {
        "colab": {
          "base_uri": "https://localhost:8080/"
        },
        "id": "yohFUYhsb0RC",
        "outputId": "8946c215-bf4b-4baa-8e73-4f34ba569555"
      },
      "execution_count": null,
      "outputs": [
        {
          "output_type": "execute_result",
          "data": {
            "text/plain": [
              "3025"
            ]
          },
          "metadata": {},
          "execution_count": 18
        }
      ]
    }
  ]
}