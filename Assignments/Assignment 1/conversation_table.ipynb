{
  "nbformat": 4,
  "nbformat_minor": 0,
  "metadata": {
    "colab": {
      "provenance": []
    },
    "kernelspec": {
      "name": "python3",
      "display_name": "Python 3"
    },
    "language_info": {
      "name": "python"
    }
  },
  "cells": [
    {
      "cell_type": "code",
      "execution_count": null,
      "metadata": {
        "colab": {
          "base_uri": "https://localhost:8080/"
        },
        "id": "mUVjyQoLHb62",
        "outputId": "3451e215-f2c3-44d5-a2f7-4c95f25f6407"
      },
      "outputs": [
        {
          "output_type": "stream",
          "name": "stdout",
          "text": [
            "F C\n",
            "32.0 0\n",
            "50.0 10\n",
            "68.0 20\n",
            "86.0 30\n",
            "104.0 40\n",
            "122.0 50\n",
            "140.0 60\n",
            "158.0 70\n",
            "176.0 80\n",
            "194.0 90\n",
            "212.0 100\n",
            "230.0 110\n",
            "248.0 120\n",
            "266.0 130\n",
            "284.0 140\n",
            "302.0 150\n",
            "320.0 160\n",
            "338.0 170\n",
            "356.0 180\n",
            "374.0 190\n",
            "392.0 200\n",
            "410.0 210\n",
            "428.0 220\n",
            "446.0 230\n",
            "464.0 240\n",
            "482.0 250\n"
          ]
        }
      ],
      "source": [
        "print('F C')\n",
        "C = 0\n",
        "while C <= 250:\n",
        "  F = 9 * C / 5 + 32\n",
        "  print(F, C)\n",
        "  C += 10"
      ]
    },
    {
      "cell_type": "code",
      "source": [
        "print('F C')\n",
        "C = 0\n",
        "while C <= 250:\n",
        "  F = 9 * C / 5 + 32\n",
        "  print('%4.0f %4.0f' % (F, C))\n",
        "  C += 10"
      ],
      "metadata": {
        "colab": {
          "base_uri": "https://localhost:8080/"
        },
        "id": "9YBBe0FlIJSD",
        "outputId": "afc84688-c11e-49e5-9152-a0095223b4fc"
      },
      "execution_count": null,
      "outputs": [
        {
          "output_type": "stream",
          "name": "stdout",
          "text": [
            "F C\n",
            "  32    0\n",
            "  50   10\n",
            "  68   20\n",
            "  86   30\n",
            " 104   40\n",
            " 122   50\n",
            " 140   60\n",
            " 158   70\n",
            " 176   80\n",
            " 194   90\n",
            " 212  100\n",
            " 230  110\n",
            " 248  120\n",
            " 266  130\n",
            " 284  140\n",
            " 302  150\n",
            " 320  160\n",
            " 338  170\n",
            " 356  180\n",
            " 374  190\n",
            " 392  200\n",
            " 410  210\n",
            " 428  220\n",
            " 446  230\n",
            " 464  240\n",
            " 482  250\n"
          ]
        }
      ]
    },
    {
      "cell_type": "code",
      "source": [
        "print(' F C')\n",
        "for C in range(0, 250, 10):\n",
        "  F = 9 * C / 5 + 32\n",
        "  print('%4.0f %4.0f' % (F, C))"
      ],
      "metadata": {
        "colab": {
          "base_uri": "https://localhost:8080/"
        },
        "id": "WQsOHndnI5kM",
        "outputId": "b8f78b59-f1dd-457e-819f-a2252cd4279d"
      },
      "execution_count": null,
      "outputs": [
        {
          "output_type": "stream",
          "name": "stdout",
          "text": [
            " F C\n",
            "  32    0\n",
            "  50   10\n",
            "  68   20\n",
            "  86   30\n",
            " 104   40\n",
            " 122   50\n",
            " 140   60\n",
            " 158   70\n",
            " 176   80\n",
            " 194   90\n",
            " 212  100\n",
            " 230  110\n",
            " 248  120\n",
            " 266  130\n",
            " 284  140\n",
            " 302  150\n",
            " 320  160\n",
            " 338  170\n",
            " 356  180\n",
            " 374  190\n",
            " 392  200\n",
            " 410  210\n",
            " 428  220\n",
            " 446  230\n",
            " 464  240\n"
          ]
        }
      ]
    },
    {
      "cell_type": "code",
      "source": [
        "print(' F C')\n",
        "for C in range(-50, 50, 5):\n",
        "  F = 9 * C / 5 + 32\n",
        "  print('%4.0f %4.0f' % (F, C))"
      ],
      "metadata": {
        "colab": {
          "base_uri": "https://localhost:8080/"
        },
        "id": "JVOdCOSdJGTt",
        "outputId": "0a6e0776-2ca6-4677-b16c-9bb3ea7f3466"
      },
      "execution_count": null,
      "outputs": [
        {
          "output_type": "stream",
          "name": "stdout",
          "text": [
            " F C\n",
            " -58  -50\n",
            " -49  -45\n",
            " -40  -40\n",
            " -31  -35\n",
            " -22  -30\n",
            " -13  -25\n",
            "  -4  -20\n",
            "   5  -15\n",
            "  14  -10\n",
            "  23   -5\n",
            "  32    0\n",
            "  41    5\n",
            "  50   10\n",
            "  59   15\n",
            "  68   20\n",
            "  77   25\n",
            "  86   30\n",
            "  95   35\n",
            " 104   40\n",
            " 113   45\n"
          ]
        }
      ]
    },
    {
      "cell_type": "code",
      "source": [
        "Cs = [0, 10] # create list using []\n",
        "Cs.append(20) # modify by appending an entry\n",
        "Cs"
      ],
      "metadata": {
        "colab": {
          "base_uri": "https://localhost:8080/"
        },
        "id": "aY5RJSIJJaXC",
        "outputId": "821fdb37-46ab-4495-f374-0ad9eb96be15"
      },
      "execution_count": null,
      "outputs": [
        {
          "output_type": "execute_result",
          "data": {
            "text/plain": [
              "[0, 10, 20]"
            ]
          },
          "metadata": {},
          "execution_count": 6
        }
      ]
    },
    {
      "cell_type": "code",
      "source": [
        "Cs = (0, 10) # create a tuple using ()"
      ],
      "metadata": {
        "id": "SX6Qr-hfJxB5"
      },
      "execution_count": null,
      "outputs": []
    },
    {
      "cell_type": "code",
      "source": [
        "Cs = [] # empty list\n",
        "Fs = []\n",
        "for C in range(0, 250, 25):\n",
        "  Cs.append(C)\n",
        "  Fs.append(9 * C / 5 + 32)"
      ],
      "metadata": {
        "id": "0WdoY7tzKBHI"
      },
      "execution_count": null,
      "outputs": []
    },
    {
      "cell_type": "code",
      "source": [
        "print(Cs)"
      ],
      "metadata": {
        "colab": {
          "base_uri": "https://localhost:8080/"
        },
        "id": "TWTDjtfWKOb5",
        "outputId": "7b476d95-ffd3-4c04-beb0-0224a0bc1998"
      },
      "execution_count": null,
      "outputs": [
        {
          "output_type": "stream",
          "name": "stdout",
          "text": [
            "[0, 25, 50, 75, 100, 125, 150, 175, 200, 225]\n"
          ]
        }
      ]
    },
    {
      "cell_type": "code",
      "source": [
        "print(Fs)"
      ],
      "metadata": {
        "colab": {
          "base_uri": "https://localhost:8080/"
        },
        "id": "pGTYMxfAKV9S",
        "outputId": "4fa166d1-6948-4566-cb90-69977dd2ac5b"
      },
      "execution_count": null,
      "outputs": [
        {
          "output_type": "stream",
          "name": "stdout",
          "text": [
            "[32.0, 77.0, 122.0, 167.0, 212.0, 257.0, 302.0, 347.0, 392.0, 437.0]\n"
          ]
        }
      ]
    },
    {
      "cell_type": "code",
      "source": [
        "print(' F C')\n",
        "for C, F in zip(Cs, Fs):\n",
        "  print('%4.0f %4.0f' % (F, C))"
      ],
      "metadata": {
        "colab": {
          "base_uri": "https://localhost:8080/"
        },
        "id": "w4f2NWLyKeVs",
        "outputId": "e296713d-e08d-4413-aa62-a6628b0defab"
      },
      "execution_count": null,
      "outputs": [
        {
          "output_type": "stream",
          "name": "stdout",
          "text": [
            " F C\n",
            "  32    0\n",
            "  77   25\n",
            " 122   50\n",
            " 167   75\n",
            " 212  100\n",
            " 257  125\n",
            " 302  150\n",
            " 347  175\n",
            " 392  200\n",
            " 437  225\n"
          ]
        }
      ]
    },
    {
      "cell_type": "code",
      "source": [
        "Fs = [9 * C / 5 + 32 for C in Cs]"
      ],
      "metadata": {
        "id": "7Tkx7qj8Kp3F"
      },
      "execution_count": null,
      "outputs": []
    }
  ]
}