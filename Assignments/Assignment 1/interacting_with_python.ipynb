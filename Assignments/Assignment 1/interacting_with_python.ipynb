{
  "nbformat": 4,
  "nbformat_minor": 0,
  "metadata": {
    "colab": {
      "provenance": []
    },
    "kernelspec": {
      "name": "python3",
      "display_name": "Python 3"
    },
    "language_info": {
      "name": "python"
    }
  },
  "cells": [
    {
      "cell_type": "code",
      "execution_count": null,
      "metadata": {
        "colab": {
          "base_uri": "https://localhost:8080/"
        },
        "id": "Jnm-C9U32BzY",
        "outputId": "04e153f0-1c29-408e-be9c-a77399c85883"
      },
      "outputs": [
        {
          "output_type": "execute_result",
          "data": {
            "text/plain": [
              "0.14008146171564725"
            ]
          },
          "metadata": {},
          "execution_count": 1
        }
      ],
      "source": [
        "from math import cos, sqrt, pi\n",
        "cos(pi*sqrt(pi))**7"
      ]
    },
    {
      "cell_type": "code",
      "source": [
        "# %load ../pyfiles/myfirstpy.py from math import cos, sqrt, pi\n",
        "print('Hello, I can compute! ')\n",
        "x = 3\n",
        "y = cos(pi*sqrt(pi)*x)**7\n",
        "print('Starting from x =', x, 'we have computed y=', y)\n"
      ],
      "metadata": {
        "colab": {
          "base_uri": "https://localhost:8080/"
        },
        "id": "fXhylI8T2jqT",
        "outputId": "55814bfe-2807-4210-edfa-fa2177a9d909"
      },
      "execution_count": null,
      "outputs": [
        {
          "output_type": "stream",
          "name": "stdout",
          "text": [
            "Hello, I can compute! \n",
            "Starting from x = 3 we have computed y= -0.013884089495354414\n"
          ]
        }
      ]
    }
  ]
}