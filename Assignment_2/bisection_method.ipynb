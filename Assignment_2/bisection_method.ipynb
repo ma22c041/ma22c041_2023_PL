{
  "nbformat": 4,
  "nbformat_minor": 0,
  "metadata": {
    "colab": {
      "provenance": []
    },
    "kernelspec": {
      "name": "python3",
      "display_name": "Python 3"
    },
    "language_info": {
      "name": "python"
    }
  },
  "cells": [
    {
      "cell_type": "code",
      "source": [
        "def bisection(f, a, b, eps, niters): #definition a bisection\n",
        "    if f(a) * f(b) >= 0:\n",
        "        raise ValueError(\"Function values at interval endpoints must have different signs.\")\n",
        "\n",
        "    n = 0 #Initializes a variable n to 0\n",
        "    while n < niters:\n",
        "        m = (a + b) / 2  # to Calculate the midpoint m of the interval using (a + b) / 2\n",
        "        if abs(f(m)) < eps:# to check f(m) is less then eps\n",
        "            return m\n",
        "        elif f(a) * f(m) < 0:\n",
        "            b = m # to check fun values at a & m have different sign. if it is root lies b/w a & m so update to b=m\n",
        "        else:\n",
        "            a = m  #if above is not crt root lirs b/w b & m so uopdate to a=m\n",
        "        n += 1 # increasing the iteration by 1\n",
        "\n",
        "        if 2**(-n) * (b - a) <= eps: #to check present interval less than eps\n",
        "            return m #statement stops the function and returns this value.\n",
        "\n",
        "    return m\n",
        "\n",
        "# Define the function for which we want to find the root\n",
        "def f(x):\n",
        "    return x - 1 - math.cos(x)\n",
        "\n",
        "#  to Set the interval [a, b], error tolerance epsilon, and maximal number of iterations niters\n",
        "a = 0\n",
        "b = 2\n",
        "epsilon = 1e-6\n",
        "niters = 100\n",
        "\n",
        "import math\n",
        "root = bisection(f, a, b, epsilon, niters)\n",
        "print(\"Approximate root:\", root) # to print approximate root\n",
        "print(\"f(root) =\", f(root))\n",
        "\n",
        "\n"
      ],
      "metadata": {
        "colab": {
          "base_uri": "https://localhost:8080/"
        },
        "id": "8FUd2mc4eY3P",
        "outputId": "6a1ec48f-ab73-4248-c282-bb64fae71495"
      },
      "execution_count": 12,
      "outputs": [
        {
          "output_type": "stream",
          "name": "stdout",
          "text": [
            "Approximate root: 1.2841796875\n",
            "f(root) = 0.0014711775485938827\n"
          ]
        }
      ]
    }
  ]
}