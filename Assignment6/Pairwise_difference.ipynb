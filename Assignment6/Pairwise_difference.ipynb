{
  "nbformat": 4,
  "nbformat_minor": 0,
  "metadata": {
    "colab": {
      "provenance": [],
      "authorship_tag": "ABX9TyMtYrZ6r+9BYWyrK0cVw5fx",
      "include_colab_link": true
    },
    "kernelspec": {
      "name": "python3",
      "display_name": "Python 3"
    },
    "language_info": {
      "name": "python"
    }
  },
  "cells": [
    {
      "cell_type": "markdown",
      "metadata": {
        "id": "view-in-github",
        "colab_type": "text"
      },
      "source": [
        "<a href=\"https://colab.research.google.com/github/ma22c041/ma22c041_2023_PL/blob/main/Assignment6/Pairwise_difference.ipynb\" target=\"_parent\"><img src=\"https://colab.research.google.com/assets/colab-badge.svg\" alt=\"Open In Colab\"/></a>"
      ]
    },
    {
      "cell_type": "code",
      "execution_count": null,
      "metadata": {
        "colab": {
          "base_uri": "https://localhost:8080/"
        },
        "id": "Q6o3u1wK9aWJ",
        "outputId": "1f98202d-e752-494c-84ea-4d463c9b7bd5"
      },
      "outputs": [
        {
          "output_type": "stream",
          "name": "stdout",
          "text": [
            "[0.14346045 0.52463863 0.60317155 0.48116283 0.55444353]\n"
          ]
        }
      ],
      "source": [
        "import numpy as np\n",
        "\n",
        "# Generate a 1D numpy array with random values\n",
        "x = np.random.rand(5)\n",
        "print(x)"
      ]
    },
    {
      "cell_type": "code",
      "source": [
        "import numpy as np\n",
        "\n",
        "# Calculate the pairwise differences and store them in a 2D numpy array D\n",
        "D = np.array([[xi - xj for xj in x] for xi in x])\n",
        "\n",
        "# Print the resulting 2D array D\n",
        "print(D)\n"
      ],
      "metadata": {
        "colab": {
          "base_uri": "https://localhost:8080/"
        },
        "id": "Kc1jXDOI-1k1",
        "outputId": "d1bcd863-01aa-4e82-dcf4-d13ab1ef8373"
      },
      "execution_count": null,
      "outputs": [
        {
          "output_type": "stream",
          "name": "stdout",
          "text": [
            "[[ 0.         -0.38117818 -0.4597111  -0.33770238 -0.41098308]\n",
            " [ 0.38117818  0.         -0.07853292  0.0434758  -0.0298049 ]\n",
            " [ 0.4597111   0.07853292  0.          0.12200872  0.04872802]\n",
            " [ 0.33770238 -0.0434758  -0.12200872  0.         -0.0732807 ]\n",
            " [ 0.41098308  0.0298049  -0.04872802  0.0732807   0.        ]]\n"
          ]
        }
      ]
    }
  ]
}