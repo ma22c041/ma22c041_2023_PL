{
  "nbformat": 4,
  "nbformat_minor": 0,
  "metadata": {
    "colab": {
      "provenance": [],
      "authorship_tag": "ABX9TyMYQItjcSk5MO/WMYwoInJM",
      "include_colab_link": true
    },
    "kernelspec": {
      "name": "python3",
      "display_name": "Python 3"
    },
    "language_info": {
      "name": "python"
    }
  },
  "cells": [
    {
      "cell_type": "markdown",
      "metadata": {
        "id": "view-in-github",
        "colab_type": "text"
      },
      "source": [
        "<a href=\"https://colab.research.google.com/github/ma22c041/ma22c041_2023_PL/blob/main/Assignment6/Hausdorff_distance.ipynb\" target=\"_parent\"><img src=\"https://colab.research.google.com/assets/colab-badge.svg\" alt=\"Open In Colab\"/></a>"
      ]
    },
    {
      "cell_type": "code",
      "source": [
        "import numpy as np                                    # Import the NumPy library for numerical operations.\n",
        "\n",
        "def euclidean_distance(p, q):\n",
        "    return np.linalg.norm(p - q)                       # Define a function to calculate Euclidean distance between two points p and q.\n",
        "\n",
        "def hausdorff_distance(P, Q):\n",
        "    max_h_pdq = 0                                      # Initialize the maximum Hausdorff distance from P to Q as 0.\n",
        "\n",
        "    for p in P:                                        # Iterate through each point p in set P.\n",
        "        min_distance = np.inf                          # Initialize the minimum distance as positive infinity.\n",
        "\n",
        "        for q in Q:                                    # Iterate through each point q in set Q.\n",
        "            distance = euclidean_distance(p, q)        # Calculate the Euclidean distance between p and q.\n",
        "            min_distance = min(min_distance, distance) # Update the minimum distance if necessary.\n",
        "\n",
        "        max_h_pdq = max(max_h_pdq, min_distance)       # Update the maximum Hausdorff distance from P to Q.\n",
        "\n",
        "    max_h_qdp = 0                                      # Initialize the maximum Hausdorff distance from Q to P as 0.\n",
        "\n",
        "    for q in Q:                                        # Iterate through each point q in set Q.\n",
        "        min_distance = np.inf                          # Initialize the minimum distance as positive infinity.\n",
        "\n",
        "        for p in P:                                    # Iterate through each point p in set P.\n",
        "            distance = euclidean_distance(q, p)        # Calculate the Euclidean distance between q and p.\n",
        "            min_distance = min(min_distance, distance) # Update the minimum distance if necessary.\n",
        "\n",
        "        max_h_qdp = max(max_h_qdp, min_distance)       # Update the maximum Hausdorff distance from Q to P.\n",
        "\n",
        "    return max(max_h_pdq, max_h_qdp)                   # Return the maximum of the two Hausdorff distances.\n",
        "\n",
        "# Example\n",
        "P = np.random.rand(5, 2)                               # Generate 5 random points in a 2D plane and store them in P.\n",
        "Q = np.random.rand(9, 2)                               # Generate 9 random points in a 2D plane and store them in Q.\n",
        "\n",
        "distance_PQ = hausdorff_distance(P, Q)                 # Calculate the Hausdorff distance from P to Q.\n",
        "distance_QP = hausdorff_distance(Q, P)                 # Calculate the Hausdorff distance from Q to P.\n",
        "H_PQ = max(distance_PQ, distance_QP)                   # Calculate the Hausdorff distance H(P, Q) by taking the maximum of the two distances.\n",
        "\n",
        "print(\"Hausdorff distance between P and Q:\", H_PQ)     # Print the computed Hausdorff distance.\n"
      ],
      "metadata": {
        "colab": {
          "base_uri": "https://localhost:8080/"
        },
        "id": "Y5YFzUpbNI9t",
        "outputId": "b93646cc-0056-46e8-8e82-a4384cb9fc78"
      },
      "execution_count": null,
      "outputs": [
        {
          "output_type": "stream",
          "name": "stdout",
          "text": [
            "Hausdorff distance between P and Q: 0.4707772612816547\n"
          ]
        }
      ]
    }
  ]
}