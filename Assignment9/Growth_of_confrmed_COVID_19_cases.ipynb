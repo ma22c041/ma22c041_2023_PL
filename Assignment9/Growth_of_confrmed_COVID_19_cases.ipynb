{
  "nbformat": 4,
  "nbformat_minor": 0,
  "metadata": {
    "colab": {
      "provenance": [],
      "authorship_tag": "ABX9TyO1BOvUr38F5+/HcpWTejP8",
      "include_colab_link": true
    },
    "kernelspec": {
      "name": "python3",
      "display_name": "Python 3"
    },
    "language_info": {
      "name": "python"
    }
  },
  "cells": [
    {
      "cell_type": "markdown",
      "metadata": {
        "id": "view-in-github",
        "colab_type": "text"
      },
      "source": [
        "<a href=\"https://colab.research.google.com/github/ma22c041/ma22c041_2023_PL/blob/main/Assignment9/Growth_of_confrmed_COVID_19_cases.ipynb\" target=\"_parent\"><img src=\"https://colab.research.google.com/assets/colab-badge.svg\" alt=\"Open In Colab\"/></a>"
      ]
    },
    {
      "cell_type": "code",
      "source": [
        "import pandas as pd\n",
        "import os\n",
        "!pip install gitpython\n",
        "from git import Repo\n",
        "import matplotlib.pyplot as plt\n",
        "import geopandas as gpd\n",
        "import urllib\n",
        "import shutil\n",
        "%matplotlib inline"
      ],
      "metadata": {
        "colab": {
          "base_uri": "https://localhost:8080/"
        },
        "id": "29fnG5-7GA7q",
        "outputId": "bceb369b-7863-478b-a789-b1f5740f84c9"
      },
      "execution_count": null,
      "outputs": [
        {
          "output_type": "stream",
          "name": "stdout",
          "text": [
            "Collecting gitpython\n",
            "  Downloading GitPython-3.1.37-py3-none-any.whl (190 kB)\n",
            "\u001b[2K     \u001b[90m━━━━━━━━━━━━━━━━━━━━━━━━━━━━━━━━━━━━━━━━\u001b[0m \u001b[32m190.0/190.0 kB\u001b[0m \u001b[31m2.8 MB/s\u001b[0m eta \u001b[36m0:00:00\u001b[0m\n",
            "\u001b[?25hCollecting gitdb<5,>=4.0.1 (from gitpython)\n",
            "  Downloading gitdb-4.0.10-py3-none-any.whl (62 kB)\n",
            "\u001b[2K     \u001b[90m━━━━━━━━━━━━━━━━━━━━━━━━━━━━━━━━━━━━━━━━\u001b[0m \u001b[32m62.7/62.7 kB\u001b[0m \u001b[31m7.1 MB/s\u001b[0m eta \u001b[36m0:00:00\u001b[0m\n",
            "\u001b[?25hCollecting smmap<6,>=3.0.1 (from gitdb<5,>=4.0.1->gitpython)\n",
            "  Downloading smmap-5.0.1-py3-none-any.whl (24 kB)\n",
            "Installing collected packages: smmap, gitdb, gitpython\n",
            "Successfully installed gitdb-4.0.10 gitpython-3.1.37 smmap-5.0.1\n"
          ]
        }
      ]
    },
    {
      "cell_type": "code",
      "source": [
        "# your local folder into which you want to download the covid data\n",
        "covidfolder = '../../data_external/covid19'"
      ],
      "metadata": {
        "id": "j_F5L36RGMhK"
      },
      "execution_count": null,
      "outputs": []
    },
    {
      "cell_type": "code",
      "source": [
        "if os.path.isdir(covidfolder): # if repo exists, pull newest data\n",
        "   repo = Repo(covidfolder)\n",
        "   repo.remotes.origin.pull()\n",
        "else: # otherwise, clone from remote\n",
        "   repo = Repo.clone_from('https://github.com/CSSEGISandData/COVID-19.git', covidfolder)\n",
        "datadir = repo.working_dir + '/csse_covid_19_data/ csse_covid_19_daily_reports'"
      ],
      "metadata": {
        "id": "pcP_IZbYGqUq"
      },
      "execution_count": null,
      "outputs": []
    },
    {
      "cell_type": "code",
      "source": [
        "import pandas as pd\n",
        "import matplotlib.pyplot as plt\n",
        "import matplotlib.dates as mdates\n",
        "from urllib.request import urlretrieve\n"
      ],
      "metadata": {
        "id": "Qd5GEODAP0Q9"
      },
      "execution_count": null,
      "outputs": []
    },
    {
      "cell_type": "code",
      "source": [
        "# Define the URL for the data file\n",
        "url = \"https://raw.githubusercontent.com/CSSEGISandData/COVID-19/master/csse_covid_19_data/csse_covid_19_time_series/time_series_covid19_confirmed_US.csv\"\n",
        "\n",
        "# Download the data file and save it as 'covid19_data_us.csv'\n",
        "urlretrieve(url, \"covid19_data_us.csv\")\n"
      ],
      "metadata": {
        "colab": {
          "base_uri": "https://localhost:8080/"
        },
        "id": "IEr83R-8P7Nu",
        "outputId": "735748a7-ee89-4bb8-f87f-1636f1a0f9c3"
      },
      "execution_count": null,
      "outputs": [
        {
          "output_type": "execute_result",
          "data": {
            "text/plain": [
              "('covid19_data_us.csv', <http.client.HTTPMessage at 0x79a184513c40>)"
            ]
          },
          "metadata": {},
          "execution_count": 41
        }
      ]
    },
    {
      "cell_type": "code",
      "source": [
        "# Read the CSV file into a DataFrame\n",
        "df = pd.read_csv(\"covid19_data_us.csv\")\n",
        "\n",
        "# Filter the data for the states of interest\n",
        "states = ['Oregon', 'Washington', 'California']\n",
        "df_states = df[df['Province_State'].isin(states)]\n"
      ],
      "metadata": {
        "id": "5hrfCHeSQCqh"
      },
      "execution_count": null,
      "outputs": []
    },
    {
      "cell_type": "code",
      "source": [
        "# Read the CSV file into a DataFrame\n",
        "df = pd.read_csv(\"covid19_data_us.csv\")\n",
        "\n",
        "# Filter the data for the states of interest\n",
        "states = ['Oregon', 'Washington', 'California']\n",
        "df_states = df[df['Province_State'].isin(states)]\n"
      ],
      "metadata": {
        "id": "e-ma59IhQCx4"
      },
      "execution_count": null,
      "outputs": []
    },
    {
      "cell_type": "code",
      "source": [
        "# Transpose the DataFrame\n",
        "df_states = df_states.transpose()\n",
        "\n",
        "# Set the first row as the column headers\n",
        "df_states.columns = df_states.iloc[0]\n",
        "\n",
        "# Drop the first row (dates) since it will become the index\n",
        "df_states = df_states[1:]\n"
      ],
      "metadata": {
        "id": "0mT9YOepQRyO"
      },
      "execution_count": null,
      "outputs": []
    },
    {
      "cell_type": "code",
      "source": [
        "# Ensure the index is in datetime format and handle any errors\n",
        "try:\n",
        "    df_states.index = pd.to_datetime(df_states.index)\n",
        "except ValueError as e:\n",
        "    print(f\"An error occurred while converting dates to datetime: {e}\")\n",
        "\n",
        "# Plot the data\n",
        "plt.figure(figsize=(12, 6))\n",
        "for state in states:\n",
        "    try:\n",
        "        state_data = df_states[state].astype(int)\n",
        "        plt.plot(df_states.index, state_data, label=state)\n",
        "    except KeyError:\n",
        "        print(f\"Data for {state} not found.\")\n",
        "\n",
        "# Format the x-axis with date labels\n",
        "plt.gca().xaxis.set_major_formatter(mdates.DateFormatter(\"%Y-%m-%d\"))\n",
        "plt.gca().xaxis.set_major_locator(mdates.MonthLocator(interval=1))\n",
        "plt.gcf().autofmt_xdate()\n",
        "\n",
        "# Add labels and legend\n",
        "plt.title(\"Confirmed COVID-19 Cases\")\n",
        "plt.xlabel(\"Date\")\n",
        "plt.ylabel(\"Confirmed Cases\")\n",
        "plt.legend(loc='upper left')  # Specify the legend position\n",
        "\n",
        "# Show the plot\n",
        "plt.show()\n"
      ],
      "metadata": {
        "colab": {
          "base_uri": "https://localhost:8080/",
          "height": 660
        },
        "id": "qcq1msDJU-ac",
        "outputId": "552a6d8a-ef55-4fa7-fcb5-d69c47773a6e"
      },
      "execution_count": 50,
      "outputs": [
        {
          "output_type": "stream",
          "name": "stderr",
          "text": [
            "WARNING:matplotlib.legend:No artists with labels found to put in legend.  Note that artists whose label start with an underscore are ignored when legend() is called with no argument.\n"
          ]
        },
        {
          "output_type": "stream",
          "name": "stdout",
          "text": [
            "An error occurred while converting dates to datetime: Unknown string format: iso2 present at position 0\n",
            "Data for Oregon not found.\n",
            "Data for Washington not found.\n",
            "Data for California not found.\n"
          ]
        },
        {
          "output_type": "display_data",
          "data": {
            "text/plain": [
              "<Figure size 1200x600 with 1 Axes>"
            ],
            "image/png": "[encoded data removed]"
          },
          "metadata": {}
        }
      ]
    },
    {
      "cell_type": "markdown",
      "source": [
        "data is  not found"
      ],
      "metadata": {
        "id": "qUKz4818VI-f"
      }
    }
  ]
}