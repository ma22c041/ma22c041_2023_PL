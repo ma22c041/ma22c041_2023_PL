{
  "nbformat": 4,
  "nbformat_minor": 0,
  "metadata": {
    "colab": {
      "provenance": [],
      "authorship_tag": "ABX9TyMLDA5sygFhOY53Zvv3mz60",
      "include_colab_link": true
    },
    "kernelspec": {
      "name": "python3",
      "display_name": "Python 3"
    },
    "language_info": {
      "name": "python"
    }
  },
  "cells": [
    {
      "cell_type": "markdown",
      "metadata": {
        "id": "view-in-github",
        "colab_type": "text"
      },
      "source": [
        "<a href=\"https://colab.research.google.com/github/ma22c041/ma22c041_2023_PL/blob/main/Assignment9/Pandas_from_dictionaries.ipynb\" target=\"_parent\"><img src=\"https://colab.research.google.com/assets/colab-badge.svg\" alt=\"Open In Colab\"/></a>"
      ]
    },
    {
      "cell_type": "code",
      "source": [
        "#task 1\n",
        "import pandas as pd\n",
        "\n",
        "d0 = {2: 'a', 1: 'b', 3: 'c'}\n",
        "pd0 = pd.Series(d0)\n",
        "print(pd0)\n"
      ],
      "metadata": {
        "colab": {
          "base_uri": "https://localhost:8080/"
        },
        "id": "xY-hlF4Eh2z3",
        "outputId": "b17b169c-86ad-45a3-f98f-33b2df86a5e0"
      },
      "execution_count": null,
      "outputs": [
        {
          "output_type": "stream",
          "name": "stdout",
          "text": [
            "2    a\n",
            "1    b\n",
            "3    c\n",
            "dtype: object\n"
          ]
        }
      ]
    },
    {
      "cell_type": "code",
      "source": [
        "#take 2\n",
        "pd0 = pd0.sort_index()\n",
        "print(pd0)\n"
      ],
      "metadata": {
        "colab": {
          "base_uri": "https://localhost:8080/"
        },
        "id": "w2hBXnWQjgh_",
        "outputId": "be9d38ae-e898-436f-d4a6-dad78a8b1310"
      },
      "execution_count": null,
      "outputs": [
        {
          "output_type": "stream",
          "name": "stdout",
          "text": [
            "1    b\n",
            "2    a\n",
            "3    c\n",
            "dtype: object\n"
          ]
        }
      ]
    },
    {
      "cell_type": "code",
      "source": [
        "#task 3\n",
        "import pandas as pd\n",
        "\n",
        "d1 = {'a': 1, 'b': 2}\n",
        "d2 = {'b': 3, 'c': 4}\n",
        "dd = pd.DataFrame({'d1': d1, 'd2': d2})\n",
        "print(dd)\n"
      ],
      "metadata": {
        "colab": {
          "base_uri": "https://localhost:8080/"
        },
        "id": "mGeXn4TBjgc6",
        "outputId": "c7b9c29f-ef75-4a6f-9661-80f272102ba8"
      },
      "execution_count": null,
      "outputs": [
        {
          "output_type": "stream",
          "name": "stdout",
          "text": [
            "    d1   d2\n",
            "a  1.0  NaN\n",
            "b  2.0  3.0\n",
            "c  NaN  4.0\n"
          ]
        }
      ]
    },
    {
      "cell_type": "code",
      "source": [
        "#task 4\n",
        "# Indexing by column name\n",
        "column_d1 = dd['d1']\n",
        "column_d2 = dd['d2']\n",
        "print(column_d1)\n",
        "print(column_d2)\n",
        "\n",
        "# Slicing rows\n",
        "sliced_rows = dd[0:2]\n",
        "print(sliced_rows)\n"
      ],
      "metadata": {
        "colab": {
          "base_uri": "https://localhost:8080/"
        },
        "id": "ihr9VJ-JjgbH",
        "outputId": "dbbe410c-9df8-4ecd-ae90-9d30d3d3360c"
      },
      "execution_count": null,
      "outputs": [
        {
          "output_type": "stream",
          "name": "stdout",
          "text": [
            "a    1.0\n",
            "b    2.0\n",
            "c    NaN\n",
            "Name: d1, dtype: float64\n",
            "a    NaN\n",
            "b    3.0\n",
            "c    4.0\n",
            "Name: d2, dtype: float64\n",
            "    d1   d2\n",
            "a  1.0  NaN\n",
            "b  2.0  3.0\n"
          ]
        }
      ]
    },
    {
      "cell_type": "code",
      "source": [
        "# task 5 Implicit indexing using .loc\n",
        "row_a = dd.loc['a']\n",
        "value_b_d1 = dd.loc['b', 'd1']\n",
        "print(row_a)\n",
        "print(value_b_d1)\n",
        "\n",
        "# Explicit indexing using .iloc\n",
        "row_0 = dd.iloc[0]\n",
        "value_0_1 = dd.iloc[0, 1]\n",
        "print(row_0)\n",
        "print(value_0_1)\n"
      ],
      "metadata": {
        "colab": {
          "base_uri": "https://localhost:8080/"
        },
        "id": "y5iAJ-AsjgWR",
        "outputId": "42329dfe-a701-4c52-f640-783baaa15132"
      },
      "execution_count": null,
      "outputs": [
        {
          "output_type": "stream",
          "name": "stdout",
          "text": [
            "d1    1.0\n",
            "d2    NaN\n",
            "Name: a, dtype: float64\n",
            "2.0\n",
            "d1    1.0\n",
            "d2    NaN\n",
            "Name: a, dtype: float64\n",
            "nan\n"
          ]
        }
      ]
    },
    {
      "cell_type": "code",
      "source": [
        "#task 6 Forward fill along columns\n",
        "dd_ffill = dd.ffill(axis=0)\n",
        "print(dd_ffill)\n",
        "\n",
        "# Backfill along rows\n",
        "dd_bfill = dd.bfill(axis=1)\n",
        "print(dd_bfill)\n"
      ],
      "metadata": {
        "colab": {
          "base_uri": "https://localhost:8080/"
        },
        "id": "1YRzVacwjgUg",
        "outputId": "f4403cf8-6846-49c1-ffb7-a338f022b820"
      },
      "execution_count": null,
      "outputs": [
        {
          "output_type": "stream",
          "name": "stdout",
          "text": [
            "    d1   d2\n",
            "a  1.0  NaN\n",
            "b  2.0  3.0\n",
            "c  2.0  4.0\n",
            "    d1   d2\n",
            "a  1.0  NaN\n",
            "b  2.0  3.0\n",
            "c  4.0  4.0\n"
          ]
        }
      ]
    }
  ]
}