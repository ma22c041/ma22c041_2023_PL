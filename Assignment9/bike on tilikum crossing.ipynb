{
  "nbformat": 4,
  "nbformat_minor": 0,
  "metadata": {
    "colab": {
      "provenance": [],
      "authorship_tag": "ABX9TyMVR+HoCf72rILIVAt8aTeR",
      "include_colab_link": true
    },
    "kernelspec": {
      "name": "python3",
      "display_name": "Python 3"
    },
    "language_info": {
      "name": "python"
    }
  },
  "cells": [
    {
      "cell_type": "markdown",
      "metadata": {
        "id": "view-in-github",
        "colab_type": "text"
      },
      "source": [
        "<a href=\"https://colab.research.google.com/github/ma22c041/ma22c041_2023_PL/blob/main/Assignment9/bike%20on%20tilikum%20crossing.ipynb\" target=\"_parent\"><img src=\"https://colab.research.google.com/assets/colab-badge.svg\" alt=\"Open In Colab\"/></a>"
      ]
    },
    {
      "cell_type": "code",
      "execution_count": null,
      "metadata": {
        "id": "s9i59B8fzO4C"
      },
      "outputs": [],
      "source": [
        "import pandas as pd\n",
        "import numpy as np\n",
        "import matplotlib.pyplot as plt\n",
        "import seaborn; seaborn.set()"
      ]
    },
    {
      "cell_type": "code",
      "source": [
        "# metadata file (small file)\n",
        "tm = pd.read_csv('../../data_external/tilikum_metadata.csv')\n",
        "# data file (large file)\n",
        "td = pd.read_csv('../../data_external/tilikum_20200501.csv')\n",
        "td.head()id"
      ],
      "metadata": {
        "id": "rcqpVDQqao5H"
      },
      "execution_count": null,
      "outputs": []
    },
    {
      "cell_type": "code",
      "source": [
        "td.tail()"
      ],
      "metadata": {
        "id": "mizib-CGao6w"
      },
      "execution_count": null,
      "outputs": []
    },
    {
      "cell_type": "code",
      "source": [
        "dif = pd.to_datetime(td['end_time']) -pd.to_datetime(td['start_time'])\n",
        "(dif == dif[0]).all()"
      ],
      "metadata": {
        "id": "bK2x3CLenGMg"
      },
      "execution_count": null,
      "outputs": []
    },
    {
      "cell_type": "code",
      "source": [
        "td = td.rename(columns={'start_time':'time'}).drop(columns=['end_time','measure_period', 'id'])"
      ],
      "metadata": {
        "id": "M1V0xI02nGOL"
      },
      "execution_count": null,
      "outputs": []
    },
    {
      "cell_type": "code",
      "source": [
        "tm.T.loc[['detector_description', 'flow_detector_id', 'detector_make','detector_name', 'facility_description'], :]"
      ],
      "metadata": {
        "id": "yJ2TrXwTnGRD"
      },
      "execution_count": null,
      "outputs": []
    },
    {
      "cell_type": "code",
      "source": [
        "(td.flow_detector_id==1904).sum()"
      ],
      "metadata": {
        "id": "teWxGVVRnGTF"
      },
      "execution_count": null,
      "outputs": []
    },
    {
      "cell_type": "code",
      "source": [
        "tE = td.loc[td['flow_detector_id']==1903, ['time', 'volume']]\n",
        "tE.index = pd.DatetimeIndex(pd.to_datetime(tE['time'])).tz_convert('US/Pacific')\n",
        "tE = tE.drop(columns=['time']).rename(columns={'volume':'Eastbound'})"
      ],
      "metadata": {
        "id": "9xZ1BULInGVV"
      },
      "execution_count": null,
      "outputs": []
    },
    {
      "cell_type": "code",
      "source": [
        "tW = td.loc[td['flow_detector_id']==1905, ['time', 'volume']]\n",
        "tW.index = pd.DatetimeIndex(pd.to_datetime(tW['time'])).tz_convert('US/Pacific')\n",
        "tW = tW.drop(columns=['time']).rename(columns={'volume':'Westbound'})"
      ],
      "metadata": {
        "id": "QaFoRdY5nGXV"
      },
      "execution_count": null,
      "outputs": []
    },
    {
      "cell_type": "code",
      "source": [
        "tE.plot();"
      ],
      "metadata": {
        "id": "juDk2mzUnGa4"
      },
      "execution_count": null,
      "outputs": []
    },
    {
      "cell_type": "code",
      "source": [
        "tE['2018-11-25':'2019-06-01'].plot();"
      ],
      "metadata": {
        "id": "Ssw7DwcBnGc3"
      },
      "execution_count": null,
      "outputs": []
    },
    {
      "cell_type": "code",
      "source": [
        "tE['2018-11-25':'2019-06-01'] = np.nan"
      ],
      "metadata": {
        "id": "XHzzW2NvoDdI"
      },
      "execution_count": null,
      "outputs": []
    },
    {
      "cell_type": "code",
      "source": [
        "tE[tE > 1000] = np.nan\n",
        "tW[tW > 1000] = np.nan"
      ],
      "metadata": {
        "id": "WNYr7nuOoDe2"
      },
      "execution_count": null,
      "outputs": []
    },
    {
      "cell_type": "code",
      "source": [
        "t = pd.merge(tE, tW, on='time')\n",
        "t.plot(alpha=0.7, style=['-',':']);"
      ],
      "metadata": {
        "id": "0Oo91dkkoDit"
      },
      "execution_count": null,
      "outputs": []
    },
    {
      "cell_type": "code",
      "source": [
        "t.resample('W').sum().plot(style=['-',':'], title='Weekly bike counts on Tilikum');"
      ],
      "metadata": {
        "id": "2xwfZwUuoS5x"
      },
      "execution_count": null,
      "outputs": []
    },
    {
      "cell_type": "code",
      "source": [
        "def weekplot(d, onlyweekend=False, title=None):\n",
        "  weekend = np.where(d.index.weekday < 5, 'Weekday', 'Weekend')\n",
        "  by_time = d.groupby([weekend, d.index.time]).mean()\n",
        "  if onlyweekend: if title is None: title = 'Bikes per 15-min during weekends'\n",
        "  by_time.loc['Weekend'].plot(title=title)\n",
        "  else:\n",
        "  if title is None: title = 'Bikes per 15-min during weekdays'\n",
        "  by_time.loc['Weekday'].plot(title=title) weekplot(t)"
      ],
      "metadata": {
        "id": "FDbC8GyAoS_g"
      },
      "execution_count": null,
      "outputs": []
    },
    {
      "cell_type": "code",
      "source": [
        "weekplot(t, onlyweekend=True)"
      ],
      "metadata": {
        "id": "EyWXluSZpCem"
      },
      "execution_count": null,
      "outputs": []
    },
    {
      "cell_type": "code",
      "source": [
        "weekplot(t.loc[:'2020-03-17'], title='Before social distancing')"
      ],
      "metadata": {
        "id": "stSby0kjpD7j"
      },
      "execution_count": null,
      "outputs": []
    },
    {
      "cell_type": "code",
      "source": [
        "weekplot(t.loc['2020-03-17':], title='After social distancing')"
      ],
      "metadata": {
        "id": "oC_OdbifpD9k"
      },
      "execution_count": null,
      "outputs": []
    },
    {
      "cell_type": "code",
      "source": [
        "t.loc[:'2020-03-17'].mean() -t.loc['2020-03-17':].mean()"
      ],
      "metadata": {
        "id": "aezgrJKrpEAc"
      },
      "execution_count": null,
      "outputs": []
    },
    {
      "cell_type": "code",
      "source": [
        "t.loc[:'2020-03-17'].resample('W').sum().mean() -t.loc['2020-03-17':]. resample('W').sum().mean()"
      ],
      "metadata": {
        "id": "xAZUb8wBpECz"
      },
      "execution_count": null,
      "outputs": []
    },
    {
      "cell_type": "code",
      "source": [
        "import os\n",
        "import shutil\n",
        "import urllib\n",
        "url = \"https://data.seattle.gov/api/views/65db-xm6k/rows.csv? ↪→accessType=DOWNLOAD\"\n",
        "f = \"../../data_external/Fremont_Bridge_Bicycle_Counter.csv\"\n",
        "if not os.path.isdir('../../data_external/'): os.mkdir('../../data_external/')\n",
        "if not os.path.exists(f):\n",
        "  with open(f, 'wb') as fo: r = urllib.request.urlopen(url)\n",
        "shutil.copyfileobj(r, fo)"
      ],
      "metadata": {
        "id": "LN27hVazpEHX"
      },
      "execution_count": null,
      "outputs": []
    },
    {
      "cell_type": "code",
      "source": [
        "sd = pd.read_csv(f) sd.tail()"
      ],
      "metadata": {
        "id": "IOWfFjjnpCsr"
      },
      "execution_count": null,
      "outputs": []
    },
    {
      "cell_type": "code",
      "source": [
        "sd = sd.rename(columns={'Date' : 'time',\n",
        "                        'Fremont Bridge East Sidewalk' : 'East',\n",
        "                        'Fremont Bridge West Sidewalk' : 'West'})\n",
        "sd.index = pd.to_datetime(sd.loc[:, 'time'])\n",
        "sd = sd.drop(columns=['time', 'Fremont Bridge Total'])\n",
        "sd.head()"
      ],
      "metadata": {
        "id": "npRKJNhup_Yh"
      },
      "execution_count": null,
      "outputs": []
    },
    {
      "cell_type": "code",
      "source": [
        "th = t.resample('H').sum()\n",
        "th.describe() # Portland's Tilikum"
      ],
      "metadata": {
        "id": "iFS9g2ygp_a5"
      },
      "execution_count": null,
      "outputs": []
    },
    {
      "cell_type": "code",
      "source": [
        "sd.describe() # Seattle's Fremont"
      ],
      "metadata": {
        "id": "4Nsnn_60p_dC"
      },
      "execution_count": null,
      "outputs": []
    },
    {
      "cell_type": "code",
      "source": [
        "sw = sd.resample('W').sum()\n",
        "tw = t.resample('W').sum()\n",
        "fig, axs = plt.subplots(1, 2, figsize=(13, 3), sharey=True)\n",
        "plt.subplots_adjust(wspace=0.05)\n",
        "sw.plot(ax=axs[0], title='Fremont bridge (Seattle) bikes/week');\n",
        "tw.plot(ax=axs[1], title='Tilikum bridge (Portland) bikes/week');"
      ],
      "metadata": {
        "id": "O34ANg4kp_e7"
      },
      "execution_count": null,
      "outputs": []
    },
    {
      "cell_type": "code",
      "source": [
        "weekplot(sd, title='Fremont (Seattle) on weekdays (Bikes/hr)')\n",
        "weekplot(th, title='Tilikum (Portland) on weekdays (Bikes/hr)')"
      ],
      "metadata": {
        "id": "C6oxSN_5quRR"
      },
      "execution_count": null,
      "outputs": []
    },
    {
      "cell_type": "code",
      "source": [
        "weekplot(sd['2020-03-17':],\n",
        "         title='Fremont (Seattle): Weekdays after␣ ↪→social distancing'); plt.ylabel('Bikes/hour');\n",
        "weekplot(th['2020-03-17':],\n",
        "         title='Tilikum (Portland): Weekdays after␣ ↪→social distancing'); plt.ylabel('Bikes/hour');"
      ],
      "metadata": {
        "id": "eKJMnBWqquTU"
      },
      "execution_count": null,
      "outputs": []
    }
  ]
}