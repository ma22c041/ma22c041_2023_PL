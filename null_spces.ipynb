{
  "nbformat": 4,
  "nbformat_minor": 0,
  "metadata": {
    "colab": {
      "provenance": [],
      "authorship_tag": "ABX9TyOxpmC4Ikt0fllkQNDP9suY",
      "include_colab_link": true
    },
    "kernelspec": {
      "name": "python3",
      "display_name": "Python 3"
    },
    "language_info": {
      "name": "python"
    }
  },
  "cells": [
    {
      "cell_type": "markdown",
      "metadata": {
        "id": "view-in-github",
        "colab_type": "text"
      },
      "source": [
        "<a href=\"https://colab.research.google.com/github/ma22c041/ma22c041_2023_PL/blob/main/null_spces.ipynb\" target=\"_parent\"><img src=\"https://colab.research.google.com/assets/colab-badge.svg\" alt=\"Open In Colab\"/></a>"
      ]
    },
    {
      "cell_type": "code",
      "execution_count": null,
      "metadata": {
        "id": "RkJngplaLizJ"
      },
      "outputs": [],
      "source": [
        "import numpy as np\n",
        "from scipy.linalg import svd\n",
        "\n",
        "A = np.array([[1, -2, 9, 5, 4], [1, -1, 6, 5, -3], [-2, 0, -6, 1, -2], [4, 1, 9, 1, -9]])"
      ]
    },
    {
      "cell_type": "code",
      "source": [
        "# Task 1: Find the null space of A using SVD\n",
        "U, S, VT = svd(A)\n",
        "null_space_svd = VT.T[:, np.where(S < 1e-10)[0]]\n",
        "\n",
        "# Print the null space found using SVD\n",
        "print(\"Null space using SVD:\")\n",
        "print(null_space_svd)\n"
      ],
      "metadata": {
        "colab": {
          "base_uri": "https://localhost:8080/"
        },
        "id": "9Pdf1iixN32r",
        "outputId": "9c48e13b-68d6-4ab5-a190-f1f2f50ae365"
      },
      "execution_count": null,
      "outputs": [
        {
          "output_type": "stream",
          "name": "stdout",
          "text": [
            "Null space using SVD:\n",
            "[[-0.87219483]\n",
            " [ 0.3573579 ]\n",
            " [ 0.29073161]\n",
            " [-0.14709627]\n",
            " [-0.07354813]]\n"
          ]
        }
      ]
    },
    {
      "cell_type": "code",
      "source": [
        "import numpy as np\n",
        "from scipy.linalg import qr\n",
        "# Task 2: Find the null space of A using QR factorization\n",
        "Q, R = qr(A.T)\n",
        "null_space_qr = Q[:, np.where(np.abs(np.diag(R)) < 1e-10)[0]]\n",
        "\n",
        "# Print the null space found using QR factorization\n",
        "print(\"Null space using QR factorization:\")\n",
        "print(null_space_qr)\n"
      ],
      "metadata": {
        "colab": {
          "base_uri": "https://localhost:8080/"
        },
        "id": "OL7x42YNOj6l",
        "outputId": "a2d330d1-c1db-4dd5-cfda-ead5dd048e25"
      },
      "execution_count": null,
      "outputs": [
        {
          "output_type": "stream",
          "name": "stdout",
          "text": [
            "Null space using QR factorization:\n",
            "[[ 0.57324869]\n",
            " [ 0.68751498]\n",
            " [-0.1910829 ]\n",
            " [ 0.36021819]\n",
            " [ 0.18010909]]\n"
          ]
        }
      ]
    },
    {
      "cell_type": "code",
      "source": [
        "# Task 3: Check if both null spaces span the same space\n",
        "if np.allclose(null_space_svd, null_space_qr):\n",
        "    print(\"both null spaces span the same space .\")\n",
        "else:\n",
        "    print(\"Both null spaces do not span the same  space.\")\n"
      ],
      "metadata": {
        "colab": {
          "base_uri": "https://localhost:8080/"
        },
        "id": "02g2469GO9Gv",
        "outputId": "04b64f56-8df3-435f-d68e-b9d20f478e0b"
      },
      "execution_count": null,
      "outputs": [
        {
          "output_type": "stream",
          "name": "stdout",
          "text": [
            "Both null spaces do not span the same  space.\n"
          ]
        }
      ]
    }
  ]
}