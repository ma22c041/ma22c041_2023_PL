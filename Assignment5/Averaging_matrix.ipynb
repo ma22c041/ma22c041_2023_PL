{
  "nbformat": 4,
  "nbformat_minor": 0,
  "metadata": {
    "colab": {
      "provenance": [],
      "authorship_tag": "ABX9TyMEDO27t9eKwVIDJRo65+Uy",
      "include_colab_link": true
    },
    "kernelspec": {
      "name": "python3",
      "display_name": "Python 3"
    },
    "language_info": {
      "name": "python"
    }
  },
  "cells": [
    {
      "cell_type": "markdown",
      "metadata": {
        "id": "view-in-github",
        "colab_type": "text"
      },
      "source": [
        "<a href=\"https://colab.research.google.com/github/ma22c041/ma22c041_2023_PL/blob/main/Assignment5/Averaging_matrix.ipynb\" target=\"_parent\"><img src=\"https://colab.research.google.com/assets/colab-badge.svg\" alt=\"Open In Colab\"/></a>"
      ]
    },
    {
      "cell_type": "code",
      "source": [
        "import numpy as np\n",
        "n = 6\n",
        "k =2"
      ],
      "metadata": {
        "id": "ZjXj1RzRsMFp"
      },
      "execution_count": null,
      "outputs": []
    },
    {
      "cell_type": "code",
      "execution_count": null,
      "metadata": {
        "id": "76jJIXvMrdgV"
      },
      "outputs": [],
      "source": [
        "def get_diag_mat(n,k):\n",
        "  y = np.diag(np.ones(n))                                   #defining daigonal entries are 1 rest all are 0\n",
        "  for i in range(1,k):\n",
        "    y = y+ np.diag(np.ones(n-i),i) +np.diag(np.ones(n-i),-i) #loop that iterate from 1 tom k-1\n",
        "  return y\n",
        "def get_avg_mat(y):\n",
        "  avg = np.sum(y,1)\n",
        "  for i in range(len(avg)):                                   #it runs each row of matrix y\n",
        "    y[i,:] = y[i,:]/avg[i]                                    #  normalizes each row of the matrix y by dividing it element-wise by its corresponding sum stored in the avg array.\n",
        "\n",
        "  return\n"
      ]
    },
    {
      "cell_type": "code",
      "source": [
        "def get_vec(n):\n",
        "  x = np.zeros(n)\n",
        "  for i in range(n):\n",
        "    x[i] = (-1)**i\n",
        "  return x\n"
      ],
      "metadata": {
        "id": "MglYT_yssAb2"
      },
      "execution_count": null,
      "outputs": []
    },
    {
      "cell_type": "code",
      "source": [
        "y = get_diag_mat(n,k)\n",
        "y = get_avg_mat(y)\n",
        "x = get_vec(n)\n",
        "np.matmul(y,x)"
      ],
      "metadata": {
        "colab": {
          "base_uri": "https://localhost:8080/"
        },
        "id": "0IwonOnLr2bA",
        "outputId": "9d25c6fd-6101-4c9f-8a33-f149150d18cd"
      },
      "execution_count": null,
      "outputs": [
        {
          "output_type": "execute_result",
          "data": {
            "text/plain": [
              "array([ 0.        ,  0.33333333, -0.33333333,  0.33333333, -0.33333333,\n",
              "        0.        ])"
            ]
          },
          "metadata": {},
          "execution_count": 11
        }
      ]
    },
    {
      "cell_type": "code",
      "source": [
        "n = 20\n",
        "k =2\n",
        "y = get_diag_mat(n,k)\n",
        "y = get_avg_mat(y)\n",
        "x=get_vec(n)\n",
        "np.matmul(y,x)\n"
      ],
      "metadata": {
        "colab": {
          "base_uri": "https://localhost:8080/"
        },
        "id": "RZL1365HuIqK",
        "outputId": "cdd6896e-f15d-4028-f76e-b2f432dce164"
      },
      "execution_count": null,
      "outputs": [
        {
          "output_type": "execute_result",
          "data": {
            "text/plain": [
              "array([ 0.        ,  0.33333333, -0.33333333,  0.33333333, -0.33333333,\n",
              "        0.33333333, -0.33333333,  0.33333333, -0.33333333,  0.33333333,\n",
              "       -0.33333333,  0.33333333, -0.33333333,  0.33333333, -0.33333333,\n",
              "        0.33333333, -0.33333333,  0.33333333, -0.33333333,  0.        ])"
            ]
          },
          "metadata": {},
          "execution_count": 13
        }
      ]
    },
    {
      "cell_type": "code",
      "source": [
        "  # task 1                                                           Alternating values\n",
        "#When applying the averaging operator A to a vector with alternating values of (-1)^j,\n",
        "#we  should observe that the resulting vector approaches a constant value as we increase the matrix size (n) and superdiagonals (k).\n",
        "#This constant value is approximately 0.333, indicating that the averaging operator effectively smoothes out the alternating values,\n",
        "# and approaching a balanced average"
      ],
      "metadata": {
        "id": "Pk5ydI4du4xM"
      },
      "execution_count": null,
      "outputs": []
    },
    {
      "cell_type": "code",
      "source": [
        "x = np.linspace(0,10,1000)\n",
        "f_x = x**2 + 2*np.sin(10*x)\n",
        "f_x.shape\n",
        "f_x.reshape(1000,1);\n",
        "n = 1000\n",
        "k = 100\n",
        "y = get_diag_mat(n,k)\n",
        "y = get_avg_mat(y)\n"
      ],
      "metadata": {
        "id": "1WZhfwVGvJIz"
      },
      "execution_count": null,
      "outputs": []
    },
    {
      "cell_type": "code",
      "source": [
        "import matplotlib.pyplot as plt\n",
        "plt.plot(x,f_x)\n"
      ],
      "metadata": {
        "colab": {
          "base_uri": "https://localhost:8080/",
          "height": 447
        },
        "id": "--9kcbhYwbdR",
        "outputId": "38ef6f17-2cc8-498a-fa6e-d18789a13e64"
      },
      "execution_count": null,
      "outputs": [
        {
          "output_type": "execute_result",
          "data": {
            "text/plain": [
              "[<matplotlib.lines.Line2D at 0x7c61c91f66b0>]"
            ]
          },
          "metadata": {},
          "execution_count": 29
        },
        {
          "output_type": "display_data",
          "data": {
            "text/plain": [
              "<Figure size 640x480 with 1 Axes>"
            ],
            "image/png": "[encoded data removed]"
          },
          "metadata": {}
        }
      ]
    },
    {
      "cell_type": "code",
      "source": [
        "#Task 2                                                                   (Function Values):\n",
        "\n",
        "#When applying A to a vector containing values of the function f(x) = x^2 + 2*sin(10x) sampled at equally spaced points in the interval [0, 10],\n",
        "# the effect of the operator depends on the values of n and k. Increasing n will provide a higher resolution approximation of the function,\n",
        "#and increasing k will result in a stronger smoothing effect.\n",
        "#As you increase n, the result will more closely resemble the integral of the function over the interval [0, 10]\n",
        "#because the averaging operator acts as a weighted integral over the surrounding values.\n",
        "#The result should converge to an approximation of the integral of f(x) over the interval.\n",
        "#Increasing k will make the result smoother. However, if k becomes too large, it can introduce \"edge effects\" near the boundaries of the interval.\n",
        "#These effects are caused by the strong smoothing of neighboring values and can lead to deviations from the true integral values near the edges.\n"
      ],
      "metadata": {
        "id": "lYRMOS2Cw57e"
      },
      "execution_count": null,
      "outputs": []
    },
    {
      "cell_type": "code",
      "source": [
        "                                                                       #overall observation\n",
        "# the averaging operator A depends on the choice of n and k. Increasing n provides better resolution of the function,\n",
        "#while increasing k leads to stronger smoothing but may introduce edge effects.\n",
        "#The choice of parameters should be based on the desired level of smoothing and accuracy for a specific problem.\n"
      ],
      "metadata": {
        "id": "fGulNIkAx8YH"
      },
      "execution_count": null,
      "outputs": []
    }
  ]
}