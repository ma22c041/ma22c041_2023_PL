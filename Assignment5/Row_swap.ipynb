{
  "nbformat": 4,
  "nbformat_minor": 0,
  "metadata": {
    "colab": {
      "provenance": [],
      "authorship_tag": "ABX9TyOx9ixL50GfnEHwNN7Vtewj",
      "include_colab_link": true
    },
    "kernelspec": {
      "name": "python3",
      "display_name": "Python 3"
    },
    "language_info": {
      "name": "python"
    }
  },
  "cells": [
    {
      "cell_type": "markdown",
      "metadata": {
        "id": "view-in-github",
        "colab_type": "text"
      },
      "source": [
        "<a href=\"https://colab.research.google.com/github/ma22c041/ma22c041_2023_PL/blob/main/Assignment5/Row_swap.ipynb\" target=\"_parent\"><img src=\"https://colab.research.google.com/assets/colab-badge.svg\" alt=\"Open In Colab\"/></a>"
      ]
    },
    {
      "cell_type": "code",
      "execution_count": null,
      "metadata": {
        "id": "dg7wQJfb2SbI"
      },
      "outputs": [],
      "source": [
        "import numpy as np\n",
        "\n",
        "def swaprow(i, j, A):\n",
        "    tmp = A[i, :]\n",
        "    A[i, :] = A[j, :]\n",
        "    A[j, :] = tmp\n"
      ]
    },
    {
      "cell_type": "code",
      "source": [
        "import numpy as np\n",
        "\n",
        "def swap_rows(i, j, A):\n",
        "    A[[i, j]] = A[[j, i]] #  uses advanced NumPy indexing to directly swap rows i and j without the need for a temporary variable.\n"
      ],
      "metadata": {
        "id": "UhhNvAWl2T45"
      },
      "execution_count": null,
      "outputs": []
    },
    {
      "cell_type": "code",
      "source": [
        "                # correctness\n",
        "# I've added the import statement import numpy as np to ensure NumPy is available for use in the function.\n",
        "# I've changed the function name to swap_rows for better readability and adherence to Python naming conventions (snake_case).\n",
        "# The line A[[i, j]] = A[[j, i]] uses advanced NumPy indexing to directly swap rows i and j without the need for a temporary variable.\n",
        "# This is more efficient and concise than the original code.\n",
        "# This improved code achieves the same functionality while being more efficient and concise.\n",
        "                #efficiency\n",
        " #This is highly efficient because it leverages NumPy's optimized C-based operations,\n",
        " #resulting in faster execution compared to looping through elements in Python.\n",
        "                # elegance\n",
        "# The logic for swapping rows is more straightforward and clear.\n",
        "#  the swapping is accomplished with a single line of code, which is more elegant.\n",
        "                # brevity\n",
        "# the improved code makes the reader to understand very quickly without need of much explaination\n"
      ],
      "metadata": {
        "id": "G9yJM_jk4rKa"
      },
      "execution_count": null,
      "outputs": []
    },
    {
      "cell_type": "code",
      "source": [
        "import numpy as np\n",
        "\n",
        "def swaprow(i, j, A):\n",
        "    if i != j and 0 <= i < A.shape[0] and 0 <= j < A.shape[0]:\n",
        "        A[[i, j]] = A[[j, i]]\n",
        "    else:\n",
        "        print(\"indices are the same\")\n",
        "\n",
        "#  let us do this with an example of 3 * 3 matrices\n",
        "\n",
        "# Create a sample NumPy array\n",
        "A = np.array([[1, 2, 3],\n",
        "              [4, 5, 6],\n",
        "              [7, 8, 9]])\n",
        "\n",
        "print(\"Original Array:\")\n",
        "print(A)\n",
        "\n",
        "# Swap rows using the corrected swaprow function\n",
        "swaprow(0, 2, A)\n",
        "print(\"\\nAfter swapping rows:\")\n",
        "print(A)\n",
        "\n",
        "# Try to swap rows with invalid indices\n",
        "swaprow(0, 0, A)\n",
        "\n",
        "# Try to swap rows with out-of-bounds indices\n",
        "swaprow(0, 3, A)\n"
      ],
      "metadata": {
        "colab": {
          "base_uri": "https://localhost:8080/"
        },
        "id": "8DHDjx_R2_UO",
        "outputId": "00dffd2f-410c-4b07-fc58-9b92a1aa0f57"
      },
      "execution_count": 2,
      "outputs": [
        {
          "output_type": "stream",
          "name": "stdout",
          "text": [
            "Original Array:\n",
            "[[1 2 3]\n",
            " [4 5 6]\n",
            " [7 8 9]]\n",
            "\n",
            "After swapping rows:\n",
            "[[7 8 9]\n",
            " [4 5 6]\n",
            " [1 2 3]]\n",
            "indices are the same\n",
            "indices are the same\n"
          ]
        }
      ]
    }
  ]
}