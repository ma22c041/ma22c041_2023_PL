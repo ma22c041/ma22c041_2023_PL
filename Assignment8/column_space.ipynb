{
  "nbformat": 4,
  "nbformat_minor": 0,
  "metadata": {
    "colab": {
      "provenance": [],
      "authorship_tag": "ABX9TyNvcZuRrwtNPxN1wv/wgKM8",
      "include_colab_link": true
    },
    "kernelspec": {
      "name": "python3",
      "display_name": "Python 3"
    },
    "language_info": {
      "name": "python"
    }
  },
  "cells": [
    {
      "cell_type": "markdown",
      "metadata": {
        "id": "view-in-github",
        "colab_type": "text"
      },
      "source": [
        "<a href=\"https://colab.research.google.com/github/ma22c041/ma22c041_2023_PL/blob/main/Assignment8/column_space.ipynb\" target=\"_parent\"><img src=\"https://colab.research.google.com/assets/colab-badge.svg\" alt=\"Open In Colab\"/></a>"
      ]
    },
    {
      "cell_type": "code",
      "source": [
        "import numpy as np\n",
        "from scipy.linalg import svd, qr\n",
        "A = np.array([[1, -2, 3, -3], [2, -4, 9, -2], [-3, 6, -9, 9]])"
      ],
      "metadata": {
        "id": "AE5ApIahI2Yt"
      },
      "execution_count": null,
      "outputs": []
    },
    {
      "cell_type": "code",
      "source": [
        "# Using QR factorization\n",
        "Q, R = qr(A, mode='economic')\n",
        "column_space_basis_qr = Q\n",
        "\n",
        "print(\"Column Space Basis using QR:\")\n",
        "print(column_space_basis_qr)\n"
      ],
      "metadata": {
        "colab": {
          "base_uri": "https://localhost:8080/"
        },
        "id": "KG26opGwH3kD",
        "outputId": "d547e002-1fdd-467d-da18-ba77a56b0c13"
      },
      "execution_count": null,
      "outputs": [
        {
          "output_type": "stream",
          "name": "stdout",
          "text": [
            "Column Space Basis using QR:\n",
            "[[-0.26726124  0.95618289 -0.11952286]\n",
            " [-0.53452248 -0.04390192  0.84401323]\n",
            " [ 0.80178373  0.28945968  0.52283453]]\n"
          ]
        }
      ]
    },
    {
      "cell_type": "code",
      "source": [
        "# Using SVD\n",
        "U, s, VT = svd(A)\n",
        "column_space_basis_svd = U\n",
        "\n",
        "print(\"\\nColumn Space Basis using SVD:\")\n",
        "print(column_space_basis_svd)\n"
      ],
      "metadata": {
        "colab": {
          "base_uri": "https://localhost:8080/"
        },
        "id": "UaOikYLmHQ32",
        "outputId": "0dfc1176-c015-43c3-c143-1699c345dabe"
      },
      "execution_count": null,
      "outputs": [
        {
          "output_type": "stream",
          "name": "stdout",
          "text": [
            "\n",
            "Column Space Basis using SVD:\n",
            "[[ 2.66235859e-01  1.70641342e-01  9.48683298e-01]\n",
            " [ 5.39615303e-01 -8.41911709e-01 -5.55111512e-17]\n",
            " [-7.98707576e-01 -5.11924025e-01  3.16227766e-01]]\n"
          ]
        }
      ]
    },
    {
      "cell_type": "code",
      "source": [
        "# Task 2: Check if the column spaces obtained from QR and SVD are the same\n",
        "column_space_dim_qr = np.linalg.matrix_rank(column_space_basis_qr)\n",
        "column_space_dim_svd = np.linalg.matrix_rank(column_space_basis_svd)\n",
        "\n",
        "if column_space_dim_qr == column_space_dim_svd:\n",
        "    print(\"The column spaces obtained using QR and SVD are the same.\")\n",
        "else:\n",
        "    print(\"The column spaces obtained using QR and SVD are not the same.\")\n"
      ],
      "metadata": {
        "colab": {
          "base_uri": "https://localhost:8080/"
        },
        "id": "twVQnO1tGQ31",
        "outputId": "bd634dd2-1b17-4ec2-deb7-77017409a73b"
      },
      "execution_count": null,
      "outputs": [
        {
          "output_type": "stream",
          "name": "stdout",
          "text": [
            "The column spaces obtained using QR and SVD are the same.\n"
          ]
        }
      ]
    },
    {
      "cell_type": "code",
      "source": [
        "import numpy as np\n",
        "from scipy.linalg import svd, qr\n",
        "import time\n",
        "\n",
        "# Create a random 500x500 matrix\n",
        "random_matrix = np.random.rand(500, 500)\n",
        "\n",
        "# Using QR factorization\n",
        "start_time = time.time()\n",
        "Q, R = qr(random_matrix, mode='economic')\n",
        "qr_elapsed_time = time.time() - start_time\n",
        "\n",
        "print(f\"Time taken for QR factorization: {qr_elapsed_time} seconds\")\n"
      ],
      "metadata": {
        "colab": {
          "base_uri": "https://localhost:8080/"
        },
        "id": "DajQbbA1G1OY",
        "outputId": "a27a39e9-0ac6-4344-d015-eddd251a5e85"
      },
      "execution_count": null,
      "outputs": [
        {
          "output_type": "stream",
          "name": "stdout",
          "text": [
            "Time taken for QR factorization: 0.03606915473937988 seconds\n"
          ]
        }
      ]
    },
    {
      "cell_type": "code",
      "source": [
        "import numpy as np\n",
        "from scipy.linalg import svd, qr\n",
        "import time\n",
        "\n",
        "# Create a random 500x500 matrix\n",
        "random_matrix = np.random.rand(500, 500)\n",
        "\n",
        "# Using SVD\n",
        "start_time = time.time()\n",
        "U, s, VT = svd(random_matrix)\n",
        "svd_elapsed_time = time.time() - start_time\n",
        "\n",
        "print(f\"Time taken for SVD: {svd_elapsed_time} seconds\")\n"
      ],
      "metadata": {
        "colab": {
          "base_uri": "https://localhost:8080/"
        },
        "outputId": "005d536b-4278-48be-986d-8ec8e726d3bf",
        "id": "KzEt4ZgwIcQC"
      },
      "execution_count": null,
      "outputs": [
        {
          "output_type": "stream",
          "name": "stdout",
          "text": [
            "Time taken for SVD: 0.12517714500427246 seconds\n"
          ]
        }
      ]
    },
    {
      "cell_type": "code",
      "source": [
        "# SVD method is faster than QR factorization method"
      ],
      "metadata": {
        "id": "c_Hc5_mZKIM3"
      },
      "execution_count": null,
      "outputs": []
    }
  ]
}