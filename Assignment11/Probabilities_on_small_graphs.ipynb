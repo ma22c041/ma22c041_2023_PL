{
  "nbformat": 4,
  "nbformat_minor": 0,
  "metadata": {
    "colab": {
      "provenance": [],
      "authorship_tag": "ABX9TyM2J1y5N19q8xUnFm7Qfxsc",
      "include_colab_link": true
    },
    "kernelspec": {
      "name": "python3",
      "display_name": "Python 3"
    },
    "language_info": {
      "name": "python"
    }
  },
  "cells": [
    {
      "cell_type": "markdown",
      "metadata": {
        "id": "view-in-github",
        "colab_type": "text"
      },
      "source": [
        "<a href=\"https://colab.research.google.com/github/ma22c041/ma22c041_2023_PL/blob/main/Assignment11/Probabilities_on_small_graphs.ipynb\" target=\"_parent\"><img src=\"https://colab.research.google.com/assets/colab-badge.svg\" alt=\"Open In Colab\"/></a>"
      ]
    },
    {
      "cell_type": "code",
      "source": [
        "import numpy as np\n",
        "\n",
        "\n",
        "# Define the transition probability matrix P for the given Markov chain\n",
        "P = np.array([[0, 0.0, 0.5, 0.5], # S0\n",
        " [1.0, 0.0, 0.0, 0.0], # S1\n",
        "  [0.0, 0.0, 0.0, 1.0], # S2\n",
        "   [0, 1.0, 0.0, 0.0]]) #S3\n",
        "\n",
        "starting_state = 3\n",
        "\n",
        "target_states = [0, 1, 2]\n",
        "\n",
        "# Create a function to calculate the probability of reaching the target_states from the starting_state\n",
        "def probability_to_reach_states(P, starting_state, target_states, steps):\n",
        "    P_n = np.linalg.matrix_power(P, steps)\n",
        "    probabilities = [P_n[starting_state, target_state] for target_state in target_states]\n",
        "    return probabilities\n",
        "probabilities = probability_to_reach_states(P, starting_state, target_states, steps=100)  # You can choose a large number of steps\n",
        "\n",
        "# Print the probabilities for each target state\n",
        "for i, target_state in enumerate(target_states):\n",
        "    print(f\"Probability of hitting state {target_state} from state {starting_state}: {probabilities[i]:.4f}\")"
      ],
      "metadata": {
        "colab": {
          "base_uri": "https://localhost:8080/"
        },
        "id": "hz1IW4Z_jq3u",
        "outputId": "08c5b39d-b5cc-4889-ad04-77afb800591a"
      },
      "execution_count": 9,
      "outputs": [
        {
          "output_type": "stream",
          "name": "stdout",
          "text": [
            "Probability of hitting state 0 from state 3: 0.2857\n",
            "Probability of hitting state 1 from state 3: 0.2857\n",
            "Probability of hitting state 2 from state 3: 0.1429\n"
          ]
        }
      ]
    },
    {
      "cell_type": "code",
      "source": [
        "# Define the set of starting states\n",
        "starting_states = [0, 1, 2]\n",
        "\n",
        "# Define the target state\n",
        "target_state = 3\n",
        "\n",
        "# Print the probabilities for each starting state in B\n",
        "for i, starting_state in enumerate(starting_states):\n",
        "    print(f\"Probability of hitting state {target_state} starting from state {starting_state}: {probabilities[i]:.4f}\")"
      ],
      "metadata": {
        "colab": {
          "base_uri": "https://localhost:8080/"
        },
        "id": "9w5XF2afkJqs",
        "outputId": "fc2b61fb-b2d3-45c9-e885-f1f535f271c4"
      },
      "execution_count": 11,
      "outputs": [
        {
          "output_type": "stream",
          "name": "stdout",
          "text": [
            "Probability of hitting state 3 starting from state 0: 0.2857\n",
            "Probability of hitting state 3 starting from state 1: 0.2857\n",
            "Probability of hitting state 3 starting from state 2: 0.1429\n"
          ]
        }
      ]
    },
    {
      "cell_type": "code",
      "source": [
        "# Check if any state can reach an absorbing state\n",
        "absorbing_states = [1, 3]\n",
        "\n",
        "for state in range(len(P)):\n",
        "    can_reach_absorbing = any(P[state, absorbing_states] > 0)\n",
        "    if can_reach_absorbing:\n",
        "        print(f\"State {state} can reach an absorbing state.\")\n",
        "    else:\n",
        "        print(f\"State {state} cannot reach an absorbing state.\")\n",
        "\n",
        "# Method 2: Eigenvector Approach\n",
        "eigenvalues, eigenvectors = np.linalg.eig(P.T)\n",
        "\n",
        "# Check if there is an eigenvalue of 1\n",
        "for i, eigenvalue in enumerate(eigenvalues):\n",
        "    if np.isclose(eigenvalue, 1.0):\n",
        "        eigenvector = eigenvectors[:, i]\n",
        "        if all(eigenvector[absorbing_states] == 1) and all(eigenvector[~np.isin(range(len(P)), absorbing_states)] == 0):\n",
        "            print(\"The Markov chain is absorbing.\")\n",
        "        else:\n",
        "            print(\"The Markov chain is not absorbing.\")\n"
      ],
      "metadata": {
        "colab": {
          "base_uri": "https://localhost:8080/"
        },
        "id": "52r9AGxIld0-",
        "outputId": "2304cb5f-2b46-4963-e821-df0e8cfc9357"
      },
      "execution_count": 12,
      "outputs": [
        {
          "output_type": "stream",
          "name": "stdout",
          "text": [
            "State 0 can reach an absorbing state.\n",
            "State 1 cannot reach an absorbing state.\n",
            "State 2 can reach an absorbing state.\n",
            "State 3 can reach an absorbing state.\n",
            "The Markov chain is not absorbing.\n"
          ]
        }
      ]
    },
    {
      "cell_type": "code",
      "source": [
        "# Ensure all states can communicate with each other\n",
        "# Add transitions from S0 to S1 and from S2 to S3\n",
        "P[0, 1] = 0.5\n",
        "P[2, 3] = 0.5\n",
        "\n",
        "# Define the set of states A = {0, 1, 2}\n",
        "A = [0, 1, 2]\n",
        "\n",
        "# Calculate the fundamental matrix N\n",
        "I = np.identity(len(P))\n",
        "N = np.linalg.inv(I - P)\n",
        "\n",
        "# Calculate the hitting probabilities of states in A from the remaining states\n",
        "hitting_probabilities = np.zeros(len(P))\n",
        "\n",
        "for state in range(len(P)):\n",
        "    if state not in A:\n",
        "        hitting_probabilities[A] += N[state, A]\n",
        "\n",
        "# Print the hitting probabilities\n",
        "for i, state in enumerate(A):\n",
        " print(f\"Hitting probability of state {state} from the remaining states: {hitting_probabilities[i]:.4f}\")"
      ],
      "metadata": {
        "colab": {
          "base_uri": "https://localhost:8080/"
        },
        "id": "qmyejjk4mlu1",
        "outputId": "7d7593e9-8adc-4b54-bb03-a8f145b19ac5"
      },
      "execution_count": 24,
      "outputs": [
        {
          "output_type": "stream",
          "name": "stdout",
          "text": [
            "Hitting probability of state 0 from the remaining states: -4.0000\n",
            "Hitting probability of state 1 from the remaining states: -4.0000\n",
            "Hitting probability of state 2 from the remaining states: -2.0000\n"
          ]
        }
      ]
    },
    {
      "cell_type": "code",
      "source": [
        "# Ensure all states can communicate with each other\n",
        "# Add transitions from S0 to S1 and from S2 to S3\n",
        "P[0, 1] = 0.5\n",
        "P[2, 3] = 0.5\n",
        "\n",
        "# Define the set of states A = {3}\n",
        "A = [3]\n",
        "\n",
        "# Calculate the fundamental matrix N\n",
        "I = np.identity(len(P))\n",
        "N = np.linalg.inv(I - P)\n",
        "\n",
        "# Calculate the hitting probabilities of state 3 from the remaining states\n",
        "hitting_probabilities = np.zeros(len(A))\n",
        "\n",
        "for state in A:\n",
        "    for other_state in range(len(P)):\n",
        "        if other_state not in A:\n",
        "            hitting_probabilities[A.index(state)] += N[other_state, state]\n",
        "\n",
        "# Print the hitting probabilities\n",
        "print(f\"Hitting probability of state 3 from the remaining states: {hitting_probabilities[0]:.4f}\")"
      ],
      "metadata": {
        "colab": {
          "base_uri": "https://localhost:8080/"
        },
        "id": "pdiZ3mXnmutU",
        "outputId": "b5e97a1d-e49c-4c01-d570-fa1c14792373"
      },
      "execution_count": 25,
      "outputs": [
        {
          "output_type": "stream",
          "name": "stdout",
          "text": [
            "Hitting probability of state 3 from the remaining states: -7.0000\n"
          ]
        }
      ]
    }
  ]
}