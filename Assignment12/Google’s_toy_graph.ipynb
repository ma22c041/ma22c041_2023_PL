{
  "nbformat": 4,
  "nbformat_minor": 0,
  "metadata": {
    "colab": {
      "provenance": [],
      "authorship_tag": "ABX9TyOIeRwO4drxsm3FJypbpk48",
      "include_colab_link": true
    },
    "kernelspec": {
      "name": "python3",
      "display_name": "Python 3"
    },
    "language_info": {
      "name": "python"
    }
  },
  "cells": [
    {
      "cell_type": "markdown",
      "metadata": {
        "id": "view-in-github",
        "colab_type": "text"
      },
      "source": [
        "<a href=\"https://colab.research.google.com/github/ma22c041/ma22c041_2023_PL/blob/main/Assignment12/Google%E2%80%99s_toy_graph.ipynb\" target=\"_parent\"><img src=\"https://colab.research.google.com/assets/colab-badge.svg\" alt=\"Open In Colab\"/></a>"
      ]
    },
    {
      "cell_type": "code",
      "execution_count": 1,
      "metadata": {
        "id": "FyFQsYVjXte1"
      },
      "outputs": [],
      "source": [
        "import os\n",
        "import urllib\n",
        "import shutil\n",
        "import numpy as np"
      ]
    },
    {
      "cell_type": "code",
      "source": [
        "# The file is located here:\n",
        "url = \"https://snap.stanford.edu/data/web-Google.txt.gz\"\n",
        "\n",
        "# Download and copy it here using the code below:\n",
        "data_file = 'web-Google.txt.gz'\n",
        "\n",
        "if not os.path.exists(data_file):\n",
        "    r = urllib.request.urlopen(url)\n",
        "    with open(data_file, 'wb') as fo:\n",
        "        shutil.copyfileobj(r, fo)"
      ],
      "metadata": {
        "id": "adY3BDQgXV8x"
      },
      "execution_count": 9,
      "outputs": []
    },
    {
      "cell_type": "code",
      "source": [
        "def power_iteration(graph, r, num_iterations):\n",
        "    N = len(graph)\n",
        "    page_rank = np.ones(N) / N  # Initialize PageRank equally for all nodes\n",
        "\n",
        "    for _ in range(num_iterations):\n",
        "        page_rank = r * np.dot(graph, page_rank) + (1 - r) / N\n",
        "\n",
        "    return page_rank"
      ],
      "metadata": {
        "id": "M906HTdXXb4L"
      },
      "execution_count": 14,
      "outputs": []
    }
  ]
}