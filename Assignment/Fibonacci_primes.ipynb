{
  "cells": [
    {
      "cell_type": "markdown",
      "metadata": {
        "id": "view-in-github",
        "colab_type": "text"
      },
      "source": [
        "<a href=\"https://colab.research.google.com/github/ma22c041/ma22c041_2023_PL/blob/main/Assignment/Fibonacci_primes.ipynb\" target=\"_parent\"><img src=\"https://colab.research.google.com/assets/colab-badge.svg\" alt=\"Open In Colab\"/></a>"
      ]
    },
    {
      "cell_type": "code",
      "execution_count": null,
      "metadata": {
        "id": "H132h1LZ495b"
      },
      "outputs": [],
      "source": [
        "i=2; N=10\n",
        "L = [n**i for n in range(1, N)]"
      ]
    },
    {
      "cell_type": "code",
      "execution_count": null,
      "metadata": {
        "id": "V64TkS_w5ndd"
      },
      "outputs": [],
      "source": [
        "G = (n**i for n in range(1, N))"
      ]
    },
    {
      "cell_type": "code",
      "execution_count": null,
      "metadata": {
        "colab": {
          "base_uri": "https://localhost:8080/"
        },
        "id": "P1sJjNR956xl",
        "outputId": "65bb5bc0-3ea7-4f75-a316-4a837af692ce"
      },
      "outputs": [
        {
          "output_type": "execute_result",
          "data": {
            "text/plain": [
              "[1, 4, 9, 16, 25, 36, 49, 64, 81]"
            ]
          },
          "metadata": {},
          "execution_count": 19
        }
      ],
      "source": [
        "[l for l in L]"
      ]
    },
    {
      "cell_type": "code",
      "execution_count": null,
      "metadata": {
        "colab": {
          "base_uri": "https://localhost:8080/"
        },
        "id": "S4-_dVTX6Cw9",
        "outputId": "06b859ee-bd41-4f8e-a716-78b26b5e7ba8"
      },
      "outputs": [
        {
          "output_type": "execute_result",
          "data": {
            "text/plain": [
              "[1, 4, 9, 16, 25, 36, 49, 64, 81]"
            ]
          },
          "metadata": {},
          "execution_count": 20
        }
      ],
      "source": [
        "[g for g in G]"
      ]
    },
    {
      "cell_type": "code",
      "execution_count": null,
      "metadata": {
        "colab": {
          "base_uri": "https://localhost:8080/"
        },
        "id": "z1-1B-iL6aDB",
        "outputId": "dd4c5d09-4e97-42f4-9933-1d39b9bd8f75"
      },
      "outputs": [
        {
          "output_type": "execute_result",
          "data": {
            "text/plain": [
              "[]"
            ]
          },
          "metadata": {},
          "execution_count": 21
        }
      ],
      "source": [
        "[g for g in G]"
      ]
    },
    {
      "cell_type": "code",
      "execution_count": null,
      "metadata": {
        "id": "bnSAL8XT6ltn"
      },
      "outputs": [],
      "source": [
        "def GG():\n",
        "  for n in range(1, N):\n",
        "    yield n**i"
      ]
    },
    {
      "cell_type": "code",
      "execution_count": null,
      "metadata": {
        "colab": {
          "base_uri": "https://localhost:8080/"
        },
        "id": "Y4TxC4ut7aEd",
        "outputId": "c109d1b3-4a81-4c37-edc8-8885d019954e"
      },
      "outputs": [
        {
          "output_type": "stream",
          "name": "stdout",
          "text": [
            "1 4 9 16 25 36 49 64 81\n"
          ]
        }
      ],
      "source": [
        "G2 = GG()\n",
        "print(*G2) # see that you get the same values as before"
      ]
    },
    {
      "cell_type": "code",
      "execution_count": null,
      "metadata": {
        "colab": {
          "base_uri": "https://localhost:8080/"
        },
        "id": "QavSO3WI7oE1",
        "outputId": "8b6db7c4-e11e-4e93-eeb7-e69e122ebb65"
      },
      "outputs": [
        {
          "output_type": "execute_result",
          "data": {
            "text/plain": [
              "(1, 4, 9)"
            ]
          },
          "metadata": {},
          "execution_count": 24
        }
      ],
      "source": [
        "G2 = GG()\n",
        "# get the first 3 values of the sequence using next:\n",
        "next(G2), next(G2), next(G2)"
      ]
    },
    {
      "cell_type": "code",
      "execution_count": null,
      "metadata": {
        "colab": {
          "base_uri": "https://localhost:8080/"
        },
        "id": "fgNaBsnI8Ngy",
        "outputId": "372608cd-19e1-42bf-f17c-4b0213f87e31"
      },
      "outputs": [
        {
          "output_type": "stream",
          "name": "stdout",
          "text": [
            "16 25 36 49 64 81\n"
          ]
        }
      ],
      "source": [
        "print(*G2) # print the remaining values of the sequence"
      ]
    },
    {
      "cell_type": "code",
      "execution_count": null,
      "metadata": {
        "id": "bcVLiBJq8_9y"
      },
      "outputs": [],
      "source": [
        "i = -20\n",
        "N = 10**8"
      ]
    },
    {
      "cell_type": "code",
      "execution_count": null,
      "metadata": {
        "colab": {
          "base_uri": "https://localhost:8080/"
        },
        "id": "_x0uE0TGEKgi",
        "outputId": "2f5ae47e-aba0-436b-b48a-993da5f6c1af"
      },
      "outputs": [
        {
          "output_type": "stream",
          "name": "stdout",
          "text": [
            "Collecting memory-profiler\n",
            "  Downloading memory_profiler-0.61.0-py3-none-any.whl (31 kB)\n",
            "Requirement already satisfied: psutil in /usr/local/lib/python3.10/dist-packages (from memory-profiler) (5.9.5)\n",
            "Installing collected packages: memory-profiler\n",
            "Successfully installed memory-profiler-0.61.0\n"
          ]
        }
      ],
      "source": [
        "pip install memory-profiler\n"
      ]
    },
    {
      "cell_type": "code",
      "execution_count": null,
      "metadata": {
        "id": "iT4pATfSGUMG"
      },
      "outputs": [],
      "source": [
        "%load_ext memory_profiler"
      ]
    },
    {
      "cell_type": "code",
      "execution_count": null,
      "metadata": {
        "colab": {
          "base_uri": "https://localhost:8080/"
        },
        "id": "eEB2R83dGjlu",
        "outputId": "b268c465-5bf5-4dd0-b655-23ac7c005fa5"
      },
      "outputs": [
        {
          "output_type": "stream",
          "name": "stdout",
          "text": [
            "peak memory: 3935.73 MiB, increment: 3828.65 MiB\n"
          ]
        }
      ],
      "source": [
        "%memit sum([n**i for n in range(1, N)])"
      ]
    },
    {
      "cell_type": "code",
      "execution_count": null,
      "metadata": {
        "colab": {
          "base_uri": "https://localhost:8080/"
        },
        "id": "3axZSb97HMoJ",
        "outputId": "913f1231-7cc2-4779-ffc0-f5bf43735d29"
      },
      "outputs": [
        {
          "output_type": "stream",
          "name": "stdout",
          "text": [
            "1.0\n",
            "1.0000009536743164\n",
            "1.0000009539611137\n",
            "1.0000009539620232\n",
            "1.0000009539620336\n"
          ]
        }
      ],
      "source": [
        "G3 = (n**i for n in range(1, N))\n",
        "s = 0\n",
        "for g in G3:\n",
        "  s += g\n",
        "  if g < 1e-15:\n",
        "    break\n",
        "  print(s)"
      ]
    },
    {
      "cell_type": "code",
      "execution_count": null,
      "metadata": {
        "id": "eSyUDK30IdsP"
      },
      "outputs": [],
      "source": [
        "def natural_numbers():\n",
        "  n = 0\n",
        "  while True:\n",
        "    yield n\n",
        "    n += 1"
      ]
    },
    {
      "cell_type": "code",
      "execution_count": null,
      "metadata": {
        "colab": {
          "base_uri": "https://localhost:8080/"
        },
        "id": "SsslyniKIx3Y",
        "outputId": "ba1923e9-9690-44f4-9cb6-59f4e33641f7"
      },
      "outputs": [
        {
          "output_type": "stream",
          "name": "stdout",
          "text": [
            "0\n",
            "1\n",
            "2\n",
            "3\n",
            "4\n",
            "5\n"
          ]
        }
      ],
      "source": [
        "for n in natural_numbers():\n",
        "  print(n)\n",
        "  if n >= 5:  break # don't go into infinite loop!"
      ]
    },
    {
      "cell_type": "code",
      "execution_count": null,
      "metadata": {
        "id": "V8yeW17MJEsA"
      },
      "outputs": [],
      "source": [
        "def fibonacci(max):\n",
        "    f, fnext = 0, 1\n",
        "    while f < max:\n",
        "        yield f\n",
        "        f, fnext = fnext, f + fnext"
      ]
    },
    {
      "cell_type": "code",
      "execution_count": null,
      "metadata": {
        "colab": {
          "base_uri": "https://localhost:8080/"
        },
        "id": "ih0xlZPxJwxH",
        "outputId": "b3c5e3f7-79f9-4be2-ecda-da42b127295c"
      },
      "outputs": [
        {
          "output_type": "stream",
          "name": "stdout",
          "text": [
            "0 1 1 2 3 5 8 13 21 34 55 89 144 233 377 610 987 1597 2584 4181 6765\n"
          ]
        }
      ],
      "source": [
        "Fn = fibonacci(10000)\n",
        "print(*Fn)"
      ]
    },
    {
      "cell_type": "code",
      "execution_count": null,
      "metadata": {
        "id": "YPLj0kkzKDwb"
      },
      "outputs": [],
      "source": [
        "P = [2, 3]"
      ]
    },
    {
      "cell_type": "code",
      "execution_count": null,
      "metadata": {
        "colab": {
          "base_uri": "https://localhost:8080/"
        },
        "id": "mY3KK5dEKLbC",
        "outputId": "46ae7030-0eec-436f-ec0e-daa26bd6f538"
      },
      "outputs": [
        {
          "output_type": "execute_result",
          "data": {
            "text/plain": [
              "[0, 1]"
            ]
          },
          "metadata": {},
          "execution_count": 36
        }
      ],
      "source": [
        "[4 % p for p in P]"
      ]
    },
    {
      "cell_type": "code",
      "execution_count": null,
      "metadata": {
        "colab": {
          "base_uri": "https://localhost:8080/"
        },
        "id": "r6SE8SlsKRzV",
        "outputId": "9b72f0da-627c-46e9-c6b0-78626be9b845"
      },
      "outputs": [
        {
          "output_type": "execute_result",
          "data": {
            "text/plain": [
              "False"
            ]
          },
          "metadata": {},
          "execution_count": 37
        }
      ],
      "source": [
        "all([4 % p for p in P])"
      ]
    },
    {
      "cell_type": "code",
      "execution_count": null,
      "metadata": {
        "colab": {
          "base_uri": "https://localhost:8080/"
        },
        "id": "J_jqdjQwKf_G",
        "outputId": "4b924ed4-62dc-4ef9-b87f-b5800d3455db"
      },
      "outputs": [
        {
          "output_type": "execute_result",
          "data": {
            "text/plain": [
              "True"
            ]
          },
          "metadata": {},
          "execution_count": 38
        }
      ],
      "source": [
        "all([5 % p for p in P])"
      ]
    },
    {
      "cell_type": "code",
      "execution_count": null,
      "metadata": {
        "id": "aUzAeKceMLjQ"
      },
      "outputs": [],
      "source": [
        "def prime_numbers(N):\n",
        "  primes = []\n",
        "  q = 1\n",
        "  for n in range(q+1, N):\n",
        "    if all(n % p > 0 for p in primes):\n",
        "       primes.append(n)\n",
        "       q = n\n",
        "       yield n"
      ]
    },
    {
      "cell_type": "code",
      "execution_count": null,
      "metadata": {
        "colab": {
          "base_uri": "https://localhost:8080/"
        },
        "id": "_PU7CY4YMgYw",
        "outputId": "5904aeda-8c2c-49f7-d126-36f8987148d4"
      },
      "outputs": [
        {
          "output_type": "execute_result",
          "data": {
            "text/plain": [
              "[2, 3, 5, 7, 11, 13, 17, 19, 23, 29, 31, 37, 41, 43, 47, 53, 59, 61, 67]"
            ]
          },
          "metadata": {},
          "execution_count": 40
        }
      ],
      "source": [
        "list(prime_numbers(70))"
      ]
    },
    {
      "cell_type": "code",
      "execution_count": null,
      "metadata": {
        "colab": {
          "base_uri": "https://localhost:8080/"
        },
        "id": "jqnHd1KAM90-",
        "outputId": "6fc3c511-9675-4b20-f5ea-d99987ccd7f8"
      },
      "outputs": [
        {
          "output_type": "stream",
          "name": "stdout",
          "text": [
            "Intersecting 9592 primes with 25 fibonaccis.\n"
          ]
        },
        {
          "output_type": "execute_result",
          "data": {
            "text/plain": [
              "{2, 3, 5, 13, 89, 233, 1597, 28657}"
            ]
          },
          "metadata": {},
          "execution_count": 41
        }
      ],
      "source": [
        "def fibonacci_primes(N):\n",
        "    F = set(fibonacci(N))\n",
        "    P = set(prime_numbers(N))\n",
        "    print('Intersecting', len(P), 'primes with', len(F), 'fibonaccis.')\n",
        "    return P.intersection(F)\n",
        "fibonacci_primes(100000)\n"
      ]
    },
    {
      "cell_type": "code",
      "execution_count": null,
      "metadata": {
        "id": "_PGwsrNaOJwu"
      },
      "outputs": [],
      "source": [
        "nFP = [3, 4, 5, 7, 11, 13, 17, 23, 29, 43]"
      ]
    },
    {
      "cell_type": "code",
      "execution_count": null,
      "metadata": {
        "id": "evdmNF3cOssf"
      },
      "outputs": [],
      "source": [
        "def test_fibonacci_primes():\n",
        "    N = 10000\n",
        "    F = list(fibonacci(N))\n",
        "    nFP = [3, 4, 5, 7, 11, 13, 17, 23, 29, 43]\n",
        "\n",
        "    our_list = fibonacci_primes(N)\n",
        "    known_list = set([F[n] for n in nFP if n < len(F)])\n",
        "\n",
        "    assert len(known_list.difference(our_list))==0, 'We have a bug!'\n",
        "    print('Passed test!')"
      ]
    },
    {
      "cell_type": "code",
      "source": [
        "test_fibonacci_primes()"
      ],
      "metadata": {
        "colab": {
          "base_uri": "https://localhost:8080/"
        },
        "id": "ldzauyv3EUeB",
        "outputId": "cca86192-d0ab-45c3-976e-fea55bbaaf9c"
      },
      "execution_count": null,
      "outputs": [
        {
          "output_type": "stream",
          "name": "stdout",
          "text": [
            "Intersecting 1229 primes with 20 fibonaccis.\n",
            "Passed test!\n"
          ]
        }
      ]
    }
  ],
  "metadata": {
    "colab": {
      "provenance": [],
      "authorship_tag": "ABX9TyMRUexLOpzFapsoO10iJMgm",
      "include_colab_link": true
    },
    "kernelspec": {
      "display_name": "Python 3",
      "name": "python3"
    },
    "language_info": {
      "name": "python"
    }
  },
  "nbformat": 4,
  "nbformat_minor": 0
}