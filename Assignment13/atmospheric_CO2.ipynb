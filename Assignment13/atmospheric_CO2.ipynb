{
  "nbformat": 4,
  "nbformat_minor": 0,
  "metadata": {
    "colab": {
      "provenance": [],
      "authorship_tag": "ABX9TyNWuwNI1v7+7n9ywgj08/qs",
      "include_colab_link": true
    },
    "kernelspec": {
      "name": "python3",
      "display_name": "Python 3"
    },
    "language_info": {
      "name": "python"
    }
  },
  "cells": [
    {
      "cell_type": "markdown",
      "metadata": {
        "id": "view-in-github",
        "colab_type": "text"
      },
      "source": [
        "<a href=\"https://colab.research.google.com/github/ma22c041/ma22c041_2023_PL/blob/main/Assignment13/atmospheric_CO2.ipynb\" target=\"_parent\"><img src=\"https://colab.research.google.com/assets/colab-badge.svg\" alt=\"Open In Colab\"/></a>"
      ]
    },
    {
      "cell_type": "code",
      "execution_count": 14,
      "metadata": {
        "id": "GJmMzoy2ze2q"
      },
      "outputs": [],
      "source": [
        "# NOAA GML DATA - CO2 monthly average globally\n",
        "\n",
        "url='https://gml.noaa.gov/webdata/ccgg/trends/co2/co2_mm_gl.txt'\n",
        "\n",
        "# local data\n",
        "f='../data_external/co2.txt'"
      ]
    },
    {
      "cell_type": "code",
      "source": [
        "# downloading data\n",
        "\n",
        "import os\n",
        "import urllib\n",
        "import shutil\n",
        "\n",
        "if not os.path.isdir('../data_external/'):\n",
        "    os.mkdir('../data_external/')\n",
        "\n",
        "r = urllib.request.urlopen(url)\n",
        "fo = open(f, 'wb')\n",
        "shutil.copyfileobj(r, fo)\n",
        "fo.close()"
      ],
      "metadata": {
        "id": "g0DG7dm8zhJg"
      },
      "execution_count": 20,
      "outputs": []
    },
    {
      "cell_type": "code",
      "source": [
        "# opening the data\n",
        "\n",
        "lines = open(f, 'r').readlines()"
      ],
      "metadata": {
        "id": "XTfOZdnqz-w0"
      },
      "execution_count": 21,
      "outputs": []
    },
    {
      "cell_type": "code",
      "source": [
        "time=[] ; avg=[]"
      ],
      "metadata": {
        "id": "zrDdQuHOz-uq"
      },
      "execution_count": 22,
      "outputs": []
    },
    {
      "cell_type": "code",
      "source": [
        "# munging the data to get the data into arrays\n",
        "\n",
        "for line in lines:\n",
        "    if line.startswith('#') or len(line.strip())==0:\n",
        "        continue  # skipping comments and empty lines\n",
        "\n",
        "    data=line.split()\n",
        "\n",
        "    time.append(float(data[2]))\n",
        "    avg.append(float(data[3]))"
      ],
      "metadata": {
        "id": "oCNGMDzr0Go2"
      },
      "execution_count": 34,
      "outputs": []
    },
    {
      "cell_type": "code",
      "source": [
        "import numpy as np\n",
        "from scipy.optimize import curve_fit\n",
        "import matplotlib.pyplot as plt\n",
        "\n",
        "co2_concentration = avg\n",
        "\n",
        "# Define the quadratic function\n",
        "def quadratic_function(t, a, b, c):\n",
        "    return a * t**2 + b * t + c\n",
        "\n",
        "# Fit the quadratic curve to the data\n",
        "params, covariance = curve_fit(quadratic_function, time, co2_concentration)\n",
        "\n",
        "# Extract the coefficients\n",
        "a, b, c = params\n",
        "\n",
        "# Derivative of the quadratic function\n",
        "def derivative(t, a, b):\n",
        "    return 2 * a * t + b\n",
        "\n",
        "# Estimate the rate of change (derivative) at a specific time (e.g., t=5)\n",
        "t_value = 5\n",
        "rate_of_change = derivative(t_value, a, b)\n",
        "\n",
        "# Provide a \"yes or no\" answer to the policy-maker\n",
        "if rate_of_change > 0:\n",
        "    result = \"Yes, the rate of increase of CO2 is increasing.\"\n",
        "else:\n",
        "    result = \"No, the rate of increase of CO2 is not increasing significantly.\"\n",
        "\n",
        "# Plot the data and the quadratic fit\n",
        "plt.scatter(time, co2_concentration, label=\"CO2 Data\")\n",
        "t_fit = np.linspace(min(time), max(time), 100)\n",
        "co2_fit = quadratic_function(t_fit, a, b, c)\n",
        "plt.plot(t_fit, co2_fit, label=\"Quadratic Fit\")\n",
        "plt.xlabel(\"Time\")\n",
        "plt.ylabel(\"CO2 Concentration\")\n",
        "plt.legend()\n",
        "plt.show()\n",
        "\n",
        "print(\"Rate of change at t =\", t_value, \":\", rate_of_change)\n",
        "print(result)"
      ],
      "metadata": {
        "colab": {
          "base_uri": "https://localhost:8080/",
          "height": 484
        },
        "id": "_wHjzLIm0Gq2",
        "outputId": "7135a7cf-cf00-4aad-f0a5-a111d82c7e8b"
      },
      "execution_count": 40,
      "outputs": [
        {
          "output_type": "display_data",
          "data": {
            "text/plain": [
              "<Figure size 640x480 with 1 Axes>"
            ],
            "image/png": "[encoded data removed]"
          },
          "metadata": {}
        },
        {
          "output_type": "stream",
          "name": "stdout",
          "text": [
            "Rate of change at t = 5 : -61.33908788337022\n",
            "No, the rate of increase of CO2 is not increasing significantly.\n"
          ]
        }
      ]
    }
  ]
}