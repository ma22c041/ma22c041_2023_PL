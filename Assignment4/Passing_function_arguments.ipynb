{
  "nbformat": 4,
  "nbformat_minor": 0,
  "metadata": {
    "colab": {
      "provenance": [],
      "authorship_tag": "ABX9TyPjwBWlb+hObuJhOLKkH/9H",
      "include_colab_link": true
    },
    "kernelspec": {
      "name": "python3",
      "display_name": "Python 3"
    },
    "language_info": {
      "name": "python"
    }
  },
  "cells": [
    {
      "cell_type": "markdown",
      "metadata": {
        "id": "view-in-github",
        "colab_type": "text"
      },
      "source": [
        "<a href=\"https://colab.research.google.com/github/ma22c041/ma22c041_2023_PL/blob/main/Assignment4/Passing_function_arguments.ipynb\" target=\"_parent\"><img src=\"https://colab.research.google.com/assets/colab-badge.svg\" alt=\"Open In Colab\"/></a>"
      ]
    },
    {
      "cell_type": "code",
      "source": [
        "def twice(w):\n",
        "    \"\"\"Replace w by 2*w\"\"\"\n",
        "    w *= 2"
      ],
      "metadata": {
        "id": "_AnUjeOI2CHi"
      },
      "execution_count": null,
      "outputs": []
    },
    {
      "cell_type": "code",
      "source": [
        "v = [2, 5, 1]\n",
        "twice(v)"
      ],
      "metadata": {
        "id": "UlLyI4a33YqS"
      },
      "execution_count": null,
      "outputs": []
    },
    {
      "cell_type": "code",
      "source": [
        "                                         # v is a numpy array\n",
        "import numpy as np\n",
        "\n",
        "def modify_array(arr):                                   # Define a function 'modify_array' that takes an array as an argument.\n",
        "    print(\"Inside function before modification:\", arr)   # Print the array 'arr' before modification.\n",
        "    arr *= 2                                             # Double the values of the array 'arr' in place.\n",
        "    print(\"Inside function after modification:\", arr)    # Print the array 'arr' after modification.\n",
        "\n",
        "v = np.array([2, 5, 1])                                  # Create a NumPy array 'v' with values [2, 5, 1].\n",
        "print(\"Outside function before modification:\", v)        # Print the array 'v' before calling the function.\n",
        "modify_array(v)                                          # Call the 'modify_array' function with 'v' as an argument.\n",
        "print(\"Outside function after modification:\", v)         # Print the array 'v' after calling the function.\n"
      ],
      "metadata": {
        "colab": {
          "base_uri": "https://localhost:8080/"
        },
        "id": "HY7WMDGF4UCJ",
        "outputId": "2552bfd2-7489-40ad-aad8-d145b7464e31"
      },
      "execution_count": null,
      "outputs": [
        {
          "output_type": "stream",
          "name": "stdout",
          "text": [
            "Outside function before modification: [2 5 1]\n",
            "Inside function before modification: [2 5 1]\n",
            "Inside function after modification: [ 4 10  2]\n",
            "Outside function after modification: [ 4 10  2]\n"
          ]
        }
      ]
    },
    {
      "cell_type": "code",
      "source": [
        "                                                #v is a string\n",
        "def modify_string(s):                                 # Define a function 'modify_string' that takes a string as an argument.\n",
        "    print(\"Inside function before modification:\", s)  # Print the string 's' before modification.\n",
        "    s += \" World\"                                     # Append \" World\" to the string 's'. This creates a new string.\n",
        "    print(\"Inside function after modification:\", s)   # Print the string 's' after modification.\n",
        "\n",
        "v = \"mathematics\"                                           # Create a string 'v' with the value \"mathematics\".\n",
        "print(\"Outside function before modification:\", v)     # Print the string 'v' before calling the function.\n",
        "modify_string(v)                                      # Call the 'modify_string' function with 'v' as an argument.\n",
        "print(\"Outside function after modification:\", v)      # Print the string 'v' after calling the function."
      ],
      "metadata": {
        "colab": {
          "base_uri": "https://localhost:8080/"
        },
        "id": "PFlH_iBP4v-1",
        "outputId": "a78609a2-1c9f-4ce1-8db9-821de97697f8"
      },
      "execution_count": null,
      "outputs": [
        {
          "output_type": "stream",
          "name": "stdout",
          "text": [
            "Outside function before modification: mathematics\n",
            "Inside function before modification: mathematics\n",
            "Inside function after modification: mathematics World\n",
            "Outside function after modification: mathematics\n"
          ]
        }
      ]
    },
    {
      "cell_type": "code",
      "source": [
        "#In summary, the behavior of passing objects in Python depends on whether they are mutable or immutable.\n",
        "#Mutable objects (like numpy arrays) can be modified in place, affecting the original object,\n",
        "#while immutable objects (like strings) typically result in the creation of a new object when modified inside a function, leaving the original object unchanged.\n",
        "\n",
        "\n",
        "\n",
        "\n"
      ],
      "metadata": {
        "id": "xgjxej5wC_Yt"
      },
      "execution_count": null,
      "outputs": []
    }
  ]
}